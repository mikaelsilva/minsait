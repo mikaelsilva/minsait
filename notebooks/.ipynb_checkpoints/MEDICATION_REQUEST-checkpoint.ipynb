{
  "nbformat": 4,
  "nbformat_minor": 0,
  "metadata": {
    "colab": {
      "provenance": []
    },
    "kernelspec": {
      "name": "python3",
      "display_name": "Python 3"
    },
    "language_info": {
      "name": "python"
    }
  },
  "cells": [
    {
      "cell_type": "code",
      "execution_count": 1,
      "metadata": {
        "colab": {
          "base_uri": "https://localhost:8080/"
        },
        "id": "H92Q67dldquv",
        "outputId": "0bf1fd99-8fbd-4bf5-b1a9-05e8447a7ade"
      },
      "outputs": [
        {
          "output_type": "stream",
          "name": "stdout",
          "text": [
            "Requirement already satisfied: pyspark in /usr/local/lib/python3.11/dist-packages (3.5.5)\n",
            "Requirement already satisfied: py4j==0.10.9.7 in /usr/local/lib/python3.11/dist-packages (from pyspark) (0.10.9.7)\n"
          ]
        }
      ],
      "source": [
        "!pip install pyspark"
      ]
    },
    {
      "cell_type": "code",
      "source": [
        "!git clone https://github.com/wandersondsm/teste_engenheiro"
      ],
      "metadata": {
        "colab": {
          "base_uri": "https://localhost:8080/"
        },
        "id": "TXvveH0Qundb",
        "outputId": "14d4e601-c669-47ce-e4a4-7ed675936e1d"
      },
      "execution_count": 2,
      "outputs": [
        {
          "output_type": "stream",
          "name": "stdout",
          "text": [
            "Cloning into 'teste_engenheiro'...\n",
            "remote: Enumerating objects: 1189, done.\u001b[K\n",
            "remote: Total 1189 (delta 0), reused 0 (delta 0), pack-reused 1189 (from 2)\u001b[K\n",
            "Receiving objects: 100% (1189/1189), 49.85 MiB | 8.45 MiB/s, done.\n",
            "Resolving deltas: 100% (1148/1148), done.\n",
            "Updating files: 100% (1182/1182), done.\n"
          ]
        }
      ]
    },
    {
      "cell_type": "code",
      "source": [
        "from pyspark.sql import SparkSession\n",
        "from pyspark.sql import functions as F\n"
      ],
      "metadata": {
        "id": "vyeKtKU1dxwC"
      },
      "execution_count": 3,
      "outputs": []
    },
    {
      "cell_type": "code",
      "source": [
        "spark = SparkSession.builder.appName('Create Medication Request').getOrCreate()"
      ],
      "metadata": {
        "id": "CUqBAdo3exAX"
      },
      "execution_count": 4,
      "outputs": []
    },
    {
      "cell_type": "code",
      "source": [
        "spark"
      ],
      "metadata": {
        "colab": {
          "base_uri": "https://localhost:8080/",
          "height": 219
        },
        "id": "tFGkTWqjfAsZ",
        "outputId": "d8942f2c-8044-4be2-986c-93c61f9a8c8c"
      },
      "execution_count": 5,
      "outputs": [
        {
          "output_type": "execute_result",
          "data": {
            "text/plain": [
              "<pyspark.sql.session.SparkSession at 0x7d1ebc165510>"
            ],
            "text/html": [
              "\n",
              "            <div>\n",
              "                <p><b>SparkSession - in-memory</b></p>\n",
              "                \n",
              "        <div>\n",
              "            <p><b>SparkContext</b></p>\n",
              "\n",
              "            <p><a href=\"http://cfb2baa8f70c:4040\">Spark UI</a></p>\n",
              "\n",
              "            <dl>\n",
              "              <dt>Version</dt>\n",
              "                <dd><code>v3.5.5</code></dd>\n",
              "              <dt>Master</dt>\n",
              "                <dd><code>local[*]</code></dd>\n",
              "              <dt>AppName</dt>\n",
              "                <dd><code>Create Medication Request</code></dd>\n",
              "            </dl>\n",
              "        </div>\n",
              "        \n",
              "            </div>\n",
              "        "
            ]
          },
          "metadata": {},
          "execution_count": 5
        }
      ]
    },
    {
      "cell_type": "code",
      "source": [],
      "metadata": {
        "id": "MUu-DuffEqJ1"
      },
      "execution_count": 5,
      "outputs": []
    },
    {
      "cell_type": "markdown",
      "source": [
        "### Funções auxiliares\n"
      ],
      "metadata": {
        "id": "EswOvF0zEqrt"
      }
    },
    {
      "cell_type": "code",
      "source": [
        "@F.udf('string')\n",
        "def remove_uuid(uuid):\n",
        "  if uuid:\n",
        "    return uuid.replace('urn:uuid:','')\n",
        "  return None"
      ],
      "metadata": {
        "id": "4AbOblUMEqMM"
      },
      "execution_count": 6,
      "outputs": []
    },
    {
      "cell_type": "code",
      "source": [],
      "metadata": {
        "id": "7Hkqt3faEvDk"
      },
      "execution_count": null,
      "outputs": []
    },
    {
      "cell_type": "markdown",
      "source": [
        "### Leitura dos dados e visualização geral"
      ],
      "metadata": {
        "id": "51OHbMyoEwSl"
      }
    },
    {
      "cell_type": "code",
      "source": [
        "df = spark.read.option('multiline','true').json('/content/teste_engenheiro/data/*.json')"
      ],
      "metadata": {
        "id": "CRUlFgpLg-Ku"
      },
      "execution_count": 7,
      "outputs": []
    },
    {
      "cell_type": "code",
      "source": [
        "df.show(5)"
      ],
      "metadata": {
        "colab": {
          "base_uri": "https://localhost:8080/"
        },
        "id": "vP41b0vShpJG",
        "outputId": "e0074b35-af05-451b-864c-bf44a9f72b28"
      },
      "execution_count": 8,
      "outputs": [
        {
          "output_type": "stream",
          "name": "stdout",
          "text": [
            "+--------------------+------------+-----------+\n",
            "|               entry|resourceType|       type|\n",
            "+--------------------+------------+-----------+\n",
            "|[{urn:uuid:071812...|      Bundle|transaction|\n",
            "|[{urn:uuid:df121e...|      Bundle|transaction|\n",
            "|[{urn:uuid:f156b8...|      Bundle|transaction|\n",
            "|[{urn:uuid:b0f49c...|      Bundle|transaction|\n",
            "|[{urn:uuid:37ff59...|      Bundle|transaction|\n",
            "+--------------------+------------+-----------+\n",
            "only showing top 5 rows\n",
            "\n"
          ]
        }
      ]
    },
    {
      "cell_type": "code",
      "source": [
        "df.count()"
      ],
      "metadata": {
        "colab": {
          "base_uri": "https://localhost:8080/"
        },
        "id": "NpQryPT0vCzA",
        "outputId": "c989cb38-4fca-4ba4-d02b-0dd248c59345"
      },
      "execution_count": 9,
      "outputs": [
        {
          "output_type": "execute_result",
          "data": {
            "text/plain": [
              "1180"
            ]
          },
          "metadata": {},
          "execution_count": 9
        }
      ]
    },
    {
      "cell_type": "code",
      "source": [
        "df_medication = df.select(F.explode('entry'))"
      ],
      "metadata": {
        "id": "lJG-xBmmkTvl"
      },
      "execution_count": 11,
      "outputs": []
    },
    {
      "cell_type": "code",
      "source": [
        "df_medication.count()"
      ],
      "metadata": {
        "colab": {
          "base_uri": "https://localhost:8080/"
        },
        "id": "F5baYBtaMsnc",
        "outputId": "8f560e59-3de1-4635-b037-ff017cbcaee7"
      },
      "execution_count": 12,
      "outputs": [
        {
          "output_type": "execute_result",
          "data": {
            "text/plain": [
              "527113"
            ]
          },
          "metadata": {},
          "execution_count": 12
        }
      ]
    },
    {
      "cell_type": "code",
      "source": [
        "df_medication.show(5,False)"
      ],
      "metadata": {
        "colab": {
          "base_uri": "https://localhost:8080/"
        },
        "id": "9Mg4cpUolCQ8",
        "outputId": "216106fc-d985-4d55-a3f8-277982364914"
      },
      "execution_count": 13,
      "outputs": [
        {
          "output_type": "stream",
          "name": "stdout",
          "text": [
            "+----------------------------------------------------------------------------------------------------------------------------------------------------------------------------------------------------------------------------------------------------------------------------------------------------------------------------------------------------------------------------------------------------------------------------------------------------------------------------------------------------------------------------------------------------------------------------------------------------------------------------------------------------------------------------------------------------------------------------------------------------------------------------------------------------------------------------------------------------------------------------------------------------------------------------------------------------------------------------------------------------------------------------------------------------------------------------------------------------------------------------------------------------------------------------------------------------------------------------------------------------------------------------------------------------------------------------------------------------------------------------------------------------------------------------------------------------------------------------------------------------------------------------------------------------------------------------------------------------------------------------------------------------------------------------------------------------------------------------------------------------------------------------------------------------------------------------------------------------------------------------------------------------------------------------------------------------------------------------------------------------------------------------------------------------------------------------------------------------------------------------------------------------------------------------------------------------------------------------------------------------------------------------------------------------------------------------------------------------------------------------------------------------------------------------------------------------------------------------------------------------------------------------------------------------------------------------------------------------------------------------------------------------------------------------------------------------------------------------------------------------------------------------------------------------------------------------------------------------------------------------------------------------------------------------------------------------------------------------------------------------------------------------------------------------------------------------------------------------------------------------------------+\n",
            "|col                                                                                                                                                                                                                                                                                                                                                                                                                                                                                                                                                                                                                                                                                                                                                                                                                                                                                                                                                                                                                                                                                                                                                                                                                                                                                                                                                                                                                                                                                                                                                                                                                                                                                                                                                                                                                                                                                                                                                                                                                                                                                                                                                                                                                                                                                                                                                                                                                                                                                                                                                                                                                                                                                                                                                                                                                                                                                                                                                                                                                                                                                                                                     |\n",
            "+----------------------------------------------------------------------------------------------------------------------------------------------------------------------------------------------------------------------------------------------------------------------------------------------------------------------------------------------------------------------------------------------------------------------------------------------------------------------------------------------------------------------------------------------------------------------------------------------------------------------------------------------------------------------------------------------------------------------------------------------------------------------------------------------------------------------------------------------------------------------------------------------------------------------------------------------------------------------------------------------------------------------------------------------------------------------------------------------------------------------------------------------------------------------------------------------------------------------------------------------------------------------------------------------------------------------------------------------------------------------------------------------------------------------------------------------------------------------------------------------------------------------------------------------------------------------------------------------------------------------------------------------------------------------------------------------------------------------------------------------------------------------------------------------------------------------------------------------------------------------------------------------------------------------------------------------------------------------------------------------------------------------------------------------------------------------------------------------------------------------------------------------------------------------------------------------------------------------------------------------------------------------------------------------------------------------------------------------------------------------------------------------------------------------------------------------------------------------------------------------------------------------------------------------------------------------------------------------------------------------------------------------------------------------------------------------------------------------------------------------------------------------------------------------------------------------------------------------------------------------------------------------------------------------------------------------------------------------------------------------------------------------------------------------------------------------------------------------------------------------------------------+\n",
            "|{urn:uuid:0718123b-5034-4965-a145-3d8d71b11389, {POST, Patient}, {NULL, NULL, NULL, NULL, [{Boston, US, [{[{latitude, 42.37931378112332}, {longitude, -70.90455248443486}], http://hl7.org/fhir/StructureDefinition/geolocation}], [648 Walker Ranch], 02108, Massachusetts}], NULL, NULL, NULL, 1917-08-06, NULL, NULL, NULL, NULL, NULL, NULL, [{{[{en-US, English, urn:ietf:bcp:47}], English}}], NULL, NULL, NULL, NULL, NULL, 2013-02-10T09:04:10-05:00, NULL, NULL, NULL, NULL, NULL, NULL, NULL, NULL, [{[{ombCategory, {2106-3, White, urn:oid:2.16.840.1.113883.6.238}, NULL}, {text, NULL, White}], http://hl7.org/fhir/us/core/StructureDefinition/us-core-race, NULL, NULL, NULL, NULL}, {[{ombCategory, {2186-5, Not Hispanic or Latino, urn:oid:2.16.840.1.113883.6.238}, NULL}, {text, NULL, Not Hispanic or Latino}], http://hl7.org/fhir/us/core/StructureDefinition/us-core-ethnicity, NULL, NULL, NULL, NULL}, {NULL, http://hl7.org/fhir/StructureDefinition/patient-mothersMaidenName, NULL, NULL, NULL, Marinda592 Gusikowski974}, {NULL, http://hl7.org/fhir/us/core/StructureDefinition/us-core-birthsex, NULL, M, NULL, NULL}, {NULL, http://hl7.org/fhir/StructureDefinition/patient-birthPlace, {Lowell, US, Massachusetts}, NULL, NULL, NULL}, {NULL, http://synthetichealth.github.io/synthea/disability-adjusted-life-years, NULL, NULL, 65.08212068019878, NULL}, {NULL, http://synthetichealth.github.io/synthea/quality-adjusted-life-years, NULL, NULL, 29.917879319801216, NULL}], male, NULL, NULL, 0718123b-5034-4965-a145-3d8d71b11389, [{https://github.com/synthetichealth/synthea, NULL, NULL, 0979f4fe-08c5-414e-ba1c-6ccf852bcce4}, {http://hospital.smarthealthit.org, {[{MR, Medical Record Number, http://terminology.hl7.org/CodeSystem/v2-0203}], Medical Record Number}, NULL, 0979f4fe-08c5-414e-ba1c-6ccf852bcce4}, {http://hl7.org/fhir/sid/us-ssn, {[{SS, Social Security Number, http://terminology.hl7.org/CodeSystem/v2-0203}], Social Security Number}, NULL, 999-43-1632}, {urn:oid:2.16.840.1.113883.4.3.25, {[{DL, Driver's License, http://terminology.hl7.org/CodeSystem/v2-0203}], Driver's License}, NULL, S99943022}, {http://standardhealthrecord.org/fhir/StructureDefinition/passportNumber, {[{PPN, Passport Number, http://terminology.hl7.org/CodeSystem/v2-0203}], Passport Number}, NULL, X80464261X}], NULL, NULL, NULL, NULL, NULL, NULL, NULL, NULL, NULL, {[{M, M, http://terminology.hl7.org/CodeSystem/v3-MaritalStatus}], M}, NULL, false, NULL, [{\"use\":\"official\",\"family\":\"Jerde200\",\"given\":[\"Floyd420\"],\"prefix\":[\"Mr.\"]}], NULL, NULL, NULL, NULL, NULL, NULL, NULL, NULL, NULL, NULL, NULL, NULL, NULL, NULL, NULL, NULL, NULL, NULL, NULL, NULL, Patient, NULL, NULL, NULL, NULL, NULL, NULL, NULL, NULL, [{phone, home, 555-114-6492}], {<div xmlns=\"http://www.w3.org/1999/xhtml\">Generated by <a href=\"https://github.com/synthetichealth/synthea\">Synthea</a>.Version identifier: v2.4.0-404-ge7ce2295\\n .   Person seed: -2459295241513827627  Population seed: 0</div>, generated}, NULL, NULL, NULL, NULL, NULL, NULL, NULL, NULL, NULL}}|\n",
            "|{urn:uuid:78418eeb-8ad8-3bcd-bd57-e849974df2e2, {POST, Organization}, {NULL, NULL, true, NULL, [{HULL, US, NULL, [664 NANTASKET AVE], 02045-2148, MA}], NULL, NULL, NULL, NULL, NULL, NULL, NULL, NULL, NULL, NULL, NULL, NULL, NULL, NULL, NULL, NULL, NULL, NULL, NULL, NULL, NULL, NULL, NULL, NULL, NULL, NULL, NULL, NULL, NULL, 78418eeb-8ad8-3bcd-bd57-e849974df2e2, [{https://github.com/synthetichealth/synthea, NULL, NULL, 78418eeb-8ad8-3bcd-bd57-e849974df2e2}], NULL, NULL, NULL, NULL, NULL, NULL, NULL, NULL, NULL, NULL, NULL, NULL, NULL, PCP207753, NULL, NULL, NULL, NULL, NULL, NULL, NULL, NULL, NULL, NULL, NULL, NULL, NULL, NULL, NULL, NULL, NULL, NULL, NULL, NULL, Organization, NULL, NULL, NULL, NULL, NULL, NULL, NULL, NULL, [{phone, NULL, 781-659-7937}], NULL, NULL, [{\"coding\":[{\"system\":\"http://terminology.hl7.org/CodeSystem/organization-type\",\"code\":\"prov\",\"display\":\"Healthcare Provider\"}],\"text\":\"Healthcare Provider\"}], NULL, NULL, NULL, NULL, NULL, NULL, NULL}}                                                                                                                                                                                                                                                                                                                                                                                                                                                                                                                                                                                                                                                                                                                                                                                                                                                                                                                                                                                                                                                                                                                                                                                                                                                                                                                                                                                                                                                                                                                                                                                                                                                                                                                                                                                                                                                                                                                                                                                                                                                                                                                      |\n",
            "|{urn:uuid:0000016d-3a85-4cca-0000-00000000f640, {POST, Practitioner}, {NULL, NULL, true, NULL, [{HULL, US, NULL, [664 NANTASKET AVE], 02045-2148, MA}], NULL, NULL, NULL, NULL, NULL, NULL, NULL, NULL, NULL, NULL, NULL, NULL, NULL, NULL, NULL, NULL, NULL, NULL, NULL, NULL, NULL, NULL, NULL, NULL, NULL, NULL, male, NULL, NULL, 0000016d-3a85-4cca-0000-00000000f640, [{http://hl7.org/fhir/sid/us-npi, NULL, NULL, 63040}], NULL, NULL, NULL, NULL, NULL, NULL, NULL, NULL, NULL, NULL, NULL, NULL, NULL, [{\"family\":\"Iglesias873\",\"given\":[\"Víctor493\"],\"prefix\":[\"Dr.\"]}], NULL, NULL, NULL, NULL, NULL, NULL, NULL, NULL, NULL, NULL, NULL, NULL, NULL, NULL, NULL, NULL, NULL, NULL, NULL, NULL, Practitioner, NULL, NULL, NULL, NULL, NULL, NULL, NULL, NULL, [{email, work, Víctor493.Iglesias873@example.com}], NULL, NULL, NULL, NULL, NULL, NULL, NULL, NULL, NULL, NULL}}                                                                                                                                                                                                                                                                                                                                                                                                                                                                                                                                                                                                                                                                                                                                                                                                                                                                                                                                                                                                                                                                                                                                                                                                                                                                                                                                                                                                                                                                                                                                                                                                                                                                                                                                                                                                                                                                                                                                                                                                                                                                                                                                                                                                                                              |\n",
            "|{urn:uuid:2b772e4b-8e9f-4384-a8f8-037f5cb31452, {POST, Encounter}, {NULL, NULL, NULL, NULL, NULL, NULL, NULL, NULL, NULL, NULL, NULL, NULL, {AMB, http://terminology.hl7.org/CodeSystem/v3-ActCode}, NULL, NULL, NULL, NULL, NULL, NULL, NULL, NULL, NULL, NULL, NULL, NULL, NULL, NULL, NULL, NULL, NULL, NULL, NULL, NULL, NULL, 2b772e4b-8e9f-4384-a8f8-037f5cb31452, NULL, NULL, NULL, NULL, NULL, NULL, NULL, NULL, NULL, NULL, NULL, NULL, NULL, NULL, NULL, NULL, NULL, NULL, NULL, NULL, [{{Dr. Víctor493 Iglesias873, urn:uuid:0000016d-3a85-4cca-0000-00000000f640}, NULL, NULL}], NULL, NULL, NULL, {1935-09-30T09:19:10-05:00, 1935-09-30T09:04:10-05:00}, NULL, NULL, NULL, NULL, NULL, NULL, NULL, NULL, NULL, NULL, Encounter, NULL, NULL, NULL, {PCP207753, urn:uuid:78418eeb-8ad8-3bcd-bd57-e849974df2e2}, NULL, finished, {Mr. Floyd420 Jerde200, urn:uuid:0718123b-5034-4965-a145-3d8d71b11389}, NULL, NULL, NULL, NULL, [{\"coding\":[{\"system\":\"http://snomed.info/sct\",\"code\":\"162673000\",\"display\":\"General examination of patient (procedure)\"}],\"text\":\"General examination of patient (procedure)\"}], NULL, NULL, NULL, NULL, NULL, NULL, NULL}}                                                                                                                                                                                                                                                                                                                                                                                                                                                                                                                                                                                                                                                                                                                                                                                                                                                                                                                                                                                                                                                                                                                                                                                                                                                                                                                                                                                                                                                                                                                                                                                                                                                                                                                                                                                                                                                                                                                                                                |\n",
            "|{urn:uuid:e8724820-f81f-47a3-ad9e-9aef9a602eb7, {POST, Condition}, {NULL, NULL, NULL, NULL, NULL, NULL, NULL, NULL, NULL, NULL, NULL, NULL, NULL, {[{active, http://terminology.hl7.org/CodeSystem/condition-clinical}]}, {[{59621000, Hypertension, http://snomed.info/sct}], Hypertension}, NULL, NULL, NULL, NULL, NULL, NULL, NULL, NULL, NULL, NULL, NULL, NULL, NULL, {urn:uuid:2b772e4b-8e9f-4384-a8f8-037f5cb31452}, NULL, NULL, NULL, NULL, NULL, e8724820-f81f-47a3-ad9e-9aef9a602eb7, NULL, NULL, NULL, NULL, NULL, NULL, NULL, NULL, NULL, NULL, NULL, NULL, NULL, NULL, NULL, NULL, NULL, NULL, 1935-09-30T09:04:10-05:00, NULL, NULL, NULL, NULL, NULL, NULL, NULL, NULL, NULL, NULL, NULL, NULL, NULL, 1935-09-30T09:04:10-05:00, NULL, NULL, Condition, NULL, NULL, NULL, NULL, NULL, NULL, {NULL, urn:uuid:0718123b-5034-4965-a145-3d8d71b11389}, NULL, NULL, NULL, NULL, NULL, NULL, NULL, NULL, NULL, NULL, NULL, {[{confirmed, http://terminology.hl7.org/CodeSystem/condition-ver-status}]}}}                                                                                                                                                                                                                                                                                                                                                                                                                                                                                                                                                                                                                                                                                                                                                                                                                                                                                                                                                                                                                                                                                                                                                                                                                                                                                                                                                                                                                                                                                                                                                                                                                                                                                                                                                                                                                                                                                                                                                                                                                                                                                                                      |\n",
            "+----------------------------------------------------------------------------------------------------------------------------------------------------------------------------------------------------------------------------------------------------------------------------------------------------------------------------------------------------------------------------------------------------------------------------------------------------------------------------------------------------------------------------------------------------------------------------------------------------------------------------------------------------------------------------------------------------------------------------------------------------------------------------------------------------------------------------------------------------------------------------------------------------------------------------------------------------------------------------------------------------------------------------------------------------------------------------------------------------------------------------------------------------------------------------------------------------------------------------------------------------------------------------------------------------------------------------------------------------------------------------------------------------------------------------------------------------------------------------------------------------------------------------------------------------------------------------------------------------------------------------------------------------------------------------------------------------------------------------------------------------------------------------------------------------------------------------------------------------------------------------------------------------------------------------------------------------------------------------------------------------------------------------------------------------------------------------------------------------------------------------------------------------------------------------------------------------------------------------------------------------------------------------------------------------------------------------------------------------------------------------------------------------------------------------------------------------------------------------------------------------------------------------------------------------------------------------------------------------------------------------------------------------------------------------------------------------------------------------------------------------------------------------------------------------------------------------------------------------------------------------------------------------------------------------------------------------------------------------------------------------------------------------------------------------------------------------------------------------------------------------------------+\n",
            "only showing top 5 rows\n",
            "\n"
          ]
        }
      ]
    },
    {
      "cell_type": "code",
      "source": [
        "df_save = df_medication.withColumn('RESOURCE_TYPE', F.col('col.resource.resourceType'))\\\n",
        "                       .where(\"RESOURCE_TYPE like 'MedicationRequest'\")\\\n",
        "                       .withColumn('ID', F.col('col.resource.id'))\\\n",
        "                       .withColumn('STATUS', F.col('col.resource.status'))\\\n",
        "                       .withColumn('INTENT', F.col('col.resource.intent'))\\\n",
        "                       .withColumn('AUTHORED_ON', F.col('col.resource.authoredOn').cast('timestamp'))\\\n",
        "                       .withColumn('MEDICATION_CODEABLE_CONCEPT', F.explode(F.col('col.resource.medicationCodeableConcept.coding')))\\\n",
        "                       .withColumn('MEDICATION_CODE',F.col('MEDICATION_CODEABLE_CONCEPT.code'))\\\n",
        "                       .withColumn('MEDICATION_TEXT',F.col('MEDICATION_CODEABLE_CONCEPT.display'))\\\n",
        "                       .withColumn('PATIENT_ID', remove_uuid(F.col('col.resource.subject.reference')))\\\n",
        "                       .withColumn('REQUESTER_REFERERENCE_ID', remove_uuid(F.col('col.resource.requester.reference')))\\\n",
        "                       .withColumn('REQUESTER_NAME', F.col('col.resource.requester.display'))\\\n",
        "                       .drop('col','RESOURCE_TYPE','MEDICATION_CODEABLE_CONCEPT')"
      ],
      "metadata": {
        "id": "33rrUXR3l72c"
      },
      "execution_count": 14,
      "outputs": []
    },
    {
      "cell_type": "code",
      "source": [
        "df_save.printSchema()"
      ],
      "metadata": {
        "colab": {
          "base_uri": "https://localhost:8080/"
        },
        "id": "7ttTUrayDNeP",
        "outputId": "9dc556c4-3211-4419-8a15-3e84ac729817"
      },
      "execution_count": 15,
      "outputs": [
        {
          "output_type": "stream",
          "name": "stdout",
          "text": [
            "root\n",
            " |-- ID: string (nullable = true)\n",
            " |-- STATUS: string (nullable = true)\n",
            " |-- INTENT: string (nullable = true)\n",
            " |-- AUTHORED_ON: timestamp (nullable = true)\n",
            " |-- MEDICATION_CODE: string (nullable = true)\n",
            " |-- MEDICATION_TEXT: string (nullable = true)\n",
            " |-- PATIENT_ID: string (nullable = true)\n",
            " |-- REQUESTER_REFERERENCE_ID: string (nullable = true)\n",
            " |-- REQUESTER_NAME: string (nullable = true)\n",
            "\n"
          ]
        }
      ]
    },
    {
      "cell_type": "code",
      "source": [
        "df_save.show(5,False)"
      ],
      "metadata": {
        "colab": {
          "base_uri": "https://localhost:8080/"
        },
        "id": "STITL-IsM1a0",
        "outputId": "e3620b67-b78a-4ba1-dd5c-cc8d0d2ff8e8"
      },
      "execution_count": 16,
      "outputs": [
        {
          "output_type": "stream",
          "name": "stdout",
          "text": [
            "+------------------------------------+-------+------+-------------------+---------------+----------------------------------------------------------------------------------------------------+------------------------------------+------------------------------------+-------------------------+\n",
            "|ID                                  |STATUS |INTENT|AUTHORED_ON        |MEDICATION_CODE|MEDICATION_TEXT                                                                                     |PATIENT_ID                          |REQUESTER_REFERERENCE_ID            |REQUESTER_NAME           |\n",
            "+------------------------------------+-------+------+-------------------+---------------+----------------------------------------------------------------------------------------------------+------------------------------------+------------------------------------+-------------------------+\n",
            "|eb7f5891-2265-4950-bfc6-7c337be8335d|active |order |1935-09-30 14:04:10|316049         |Hydrochlorothiazide 25 MG                                                                           |0718123b-5034-4965-a145-3d8d71b11389|0000016d-3a85-4cca-0000-00000000f640|Dr. Víctor493 Iglesias873|\n",
            "|0c07899f-1349-48a6-944e-37629285da1c|active |order |1951-10-22 14:04:10|860975         |24 HR Metformin hydrochloride 500 MG Extended Release Oral Tablet                                   |0718123b-5034-4965-a145-3d8d71b11389|0000016d-3a85-4cca-0000-00000000f640|Dr. Víctor493 Iglesias873|\n",
            "|14a04af3-88be-4041-9b6f-a779eb521006|stopped|order |1953-07-28 14:04:10|849574         |Naproxen sodium 220 MG Oral Tablet                                                                  |0718123b-5034-4965-a145-3d8d71b11389|0000016d-3a85-4cca-0000-0000000000a0|Dr. Bobby524 Kohler843   |\n",
            "|d23a5043-3f64-4da2-b813-facb6f168707|active |order |1955-03-14 14:04:10|106892         |insulin human, isophane 70 UNT/ML / Regular Insulin, Human 30 UNT/ML Injectable Suspension [Humulin]|0718123b-5034-4965-a145-3d8d71b11389|0000016d-3a85-4cca-0000-0000000000a0|Dr. Bobby524 Kohler843   |\n",
            "|d5d91624-cd6c-46a9-941c-3dcc5abf7185|stopped|order |1965-09-06 14:04:10|316672         |Simvistatin 10 MG                                                                                   |0718123b-5034-4965-a145-3d8d71b11389|0000016d-3a85-4cca-0000-0000000000a0|Dr. Bobby524 Kohler843   |\n",
            "+------------------------------------+-------+------+-------------------+---------------+----------------------------------------------------------------------------------------------------+------------------------------------+------------------------------------+-------------------------+\n",
            "only showing top 5 rows\n",
            "\n"
          ]
        }
      ]
    },
    {
      "cell_type": "code",
      "source": [],
      "metadata": {
        "id": "O671FHb-DoMm"
      },
      "execution_count": null,
      "outputs": []
    },
    {
      "cell_type": "code",
      "source": [
        "df_save.coalesce(1).write.option('header',True).option('delimiter',';').csv('medication_request')"
      ],
      "metadata": {
        "id": "2rvHkp0jL1es"
      },
      "execution_count": 17,
      "outputs": []
    },
    {
      "cell_type": "code",
      "source": [],
      "metadata": {
        "id": "1MtwpHg2Ozbr"
      },
      "execution_count": null,
      "outputs": []
    }
  ]
}