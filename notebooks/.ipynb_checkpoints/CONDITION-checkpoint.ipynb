{
  "nbformat": 4,
  "nbformat_minor": 0,
  "metadata": {
    "colab": {
      "provenance": []
    },
    "kernelspec": {
      "name": "python3",
      "display_name": "Python 3"
    },
    "language_info": {
      "name": "python"
    }
  },
  "cells": [
    {
      "cell_type": "code",
      "execution_count": 1,
      "metadata": {
        "colab": {
          "base_uri": "https://localhost:8080/"
        },
        "id": "Ir7AsuhoeXDO",
        "outputId": "d2a0ec20-44d1-41d1-cedc-9e3cb7f34af0"
      },
      "outputs": [
        {
          "output_type": "stream",
          "name": "stdout",
          "text": [
            "Requirement already satisfied: pyspark in /usr/local/lib/python3.11/dist-packages (3.5.5)\n",
            "Requirement already satisfied: py4j==0.10.9.7 in /usr/local/lib/python3.11/dist-packages (from pyspark) (0.10.9.7)\n"
          ]
        }
      ],
      "source": [
        "!pip install pyspark"
      ]
    },
    {
      "cell_type": "code",
      "source": [
        "!git clone https://github.com/wandersondsm/teste_engenheiro"
      ],
      "metadata": {
        "colab": {
          "base_uri": "https://localhost:8080/"
        },
        "id": "48VNjx7lntdx",
        "outputId": "207c5e3d-5697-4be3-bc8d-9c2936c4044b"
      },
      "execution_count": 2,
      "outputs": [
        {
          "output_type": "stream",
          "name": "stdout",
          "text": [
            "Cloning into 'teste_engenheiro'...\n",
            "remote: Enumerating objects: 1189, done.\u001b[K\n",
            "remote: Total 1189 (delta 0), reused 0 (delta 0), pack-reused 1189 (from 2)\u001b[K\n",
            "Receiving objects: 100% (1189/1189), 49.85 MiB | 3.54 MiB/s, done.\n",
            "Resolving deltas: 100% (1148/1148), done.\n",
            "Updating files: 100% (1182/1182), done.\n"
          ]
        }
      ]
    },
    {
      "cell_type": "code",
      "source": [
        "from pyspark.sql import SparkSession\n",
        "from pyspark.sql import functions as F"
      ],
      "metadata": {
        "id": "tAgxGgGAgGJc"
      },
      "execution_count": 3,
      "outputs": []
    },
    {
      "cell_type": "code",
      "source": [
        "spark = SparkSession.builder.appName('Create Condition').getOrCreate()"
      ],
      "metadata": {
        "id": "SEq5jDvxgMTL"
      },
      "execution_count": 4,
      "outputs": []
    },
    {
      "cell_type": "code",
      "source": [
        "spark"
      ],
      "metadata": {
        "colab": {
          "base_uri": "https://localhost:8080/",
          "height": 219
        },
        "id": "JyOHIkLBgSFz",
        "outputId": "41dd6eda-b4f0-41eb-ea56-f9d44063b21d"
      },
      "execution_count": 5,
      "outputs": [
        {
          "output_type": "execute_result",
          "data": {
            "text/plain": [
              "<pyspark.sql.session.SparkSession at 0x7d5e6c138490>"
            ],
            "text/html": [
              "\n",
              "            <div>\n",
              "                <p><b>SparkSession - in-memory</b></p>\n",
              "                \n",
              "        <div>\n",
              "            <p><b>SparkContext</b></p>\n",
              "\n",
              "            <p><a href=\"http://73f39588326b:4040\">Spark UI</a></p>\n",
              "\n",
              "            <dl>\n",
              "              <dt>Version</dt>\n",
              "                <dd><code>v3.5.5</code></dd>\n",
              "              <dt>Master</dt>\n",
              "                <dd><code>local[*]</code></dd>\n",
              "              <dt>AppName</dt>\n",
              "                <dd><code>Create Condition</code></dd>\n",
              "            </dl>\n",
              "        </div>\n",
              "        \n",
              "            </div>\n",
              "        "
            ]
          },
          "metadata": {},
          "execution_count": 5
        }
      ]
    },
    {
      "cell_type": "markdown",
      "source": [
        "## Funções auxiliares"
      ],
      "metadata": {
        "id": "n29AsiqtdqJ2"
      }
    },
    {
      "cell_type": "code",
      "source": [
        "@F.udf('string')\n",
        "def remove_uuid(uuid):\n",
        "  if uuid:\n",
        "    return uuid.replace('urn:uuid:','')\n",
        "  return None"
      ],
      "metadata": {
        "id": "k6qqdhcVdpW_"
      },
      "execution_count": 6,
      "outputs": []
    },
    {
      "cell_type": "code",
      "source": [],
      "metadata": {
        "id": "DHKHiCgtdpm2"
      },
      "execution_count": null,
      "outputs": []
    },
    {
      "cell_type": "markdown",
      "source": [
        "## Leitura dos dados\n"
      ],
      "metadata": {
        "id": "tR0k4QyjgZ2z"
      }
    },
    {
      "cell_type": "code",
      "source": [
        "df = spark.read.option('multiline','true').json('/content/teste_engenheiro/data/*.json')"
      ],
      "metadata": {
        "id": "KM9DQoUdgdBC"
      },
      "execution_count": 7,
      "outputs": []
    },
    {
      "cell_type": "code",
      "source": [
        "df.show(5)"
      ],
      "metadata": {
        "colab": {
          "base_uri": "https://localhost:8080/"
        },
        "id": "AJ3Owm5_ggOL",
        "outputId": "c422c341-0e0b-42e6-849e-9ff1b60a9b61"
      },
      "execution_count": 8,
      "outputs": [
        {
          "output_type": "stream",
          "name": "stdout",
          "text": [
            "+--------------------+------------+-----------+\n",
            "|               entry|resourceType|       type|\n",
            "+--------------------+------------+-----------+\n",
            "|[{urn:uuid:071812...|      Bundle|transaction|\n",
            "|[{urn:uuid:df121e...|      Bundle|transaction|\n",
            "|[{urn:uuid:f156b8...|      Bundle|transaction|\n",
            "|[{urn:uuid:b0f49c...|      Bundle|transaction|\n",
            "|[{urn:uuid:37ff59...|      Bundle|transaction|\n",
            "+--------------------+------------+-----------+\n",
            "only showing top 5 rows\n",
            "\n"
          ]
        }
      ]
    },
    {
      "cell_type": "code",
      "source": [
        "df.count()"
      ],
      "metadata": {
        "colab": {
          "base_uri": "https://localhost:8080/"
        },
        "id": "-E7IxNjmoMct",
        "outputId": "efe5f513-3bb2-4c80-e0c9-86696ab97195"
      },
      "execution_count": 9,
      "outputs": [
        {
          "output_type": "execute_result",
          "data": {
            "text/plain": [
              "1180"
            ]
          },
          "metadata": {},
          "execution_count": 9
        }
      ]
    },
    {
      "cell_type": "code",
      "source": [
        "df_condition = df.select(F.explode('entry'))"
      ],
      "metadata": {
        "id": "m_uf2toYgjqy"
      },
      "execution_count": 10,
      "outputs": []
    },
    {
      "cell_type": "code",
      "source": [
        "df_condition.count()"
      ],
      "metadata": {
        "colab": {
          "base_uri": "https://localhost:8080/"
        },
        "id": "GtiT3pKRoOy3",
        "outputId": "152b4d46-116e-4e3c-d04f-160fbd0e98c2"
      },
      "execution_count": 11,
      "outputs": [
        {
          "output_type": "execute_result",
          "data": {
            "text/plain": [
              "527113"
            ]
          },
          "metadata": {},
          "execution_count": 11
        }
      ]
    },
    {
      "cell_type": "code",
      "source": [
        "df_condition.show(5,False)"
      ],
      "metadata": {
        "colab": {
          "base_uri": "https://localhost:8080/"
        },
        "id": "6vVa5ypIgncj",
        "outputId": "38a89c69-3036-45f2-bf59-b0da6f42f549"
      },
      "execution_count": 12,
      "outputs": [
        {
          "output_type": "stream",
          "name": "stdout",
          "text": [
            "+----------------------------------------------------------------------------------------------------------------------------------------------------------------------------------------------------------------------------------------------------------------------------------------------------------------------------------------------------------------------------------------------------------------------------------------------------------------------------------------------------------------------------------------------------------------------------------------------------------------------------------------------------------------------------------------------------------------------------------------------------------------------------------------------------------------------------------------------------------------------------------------------------------------------------------------------------------------------------------------------------------------------------------------------------------------------------------------------------------------------------------------------------------------------------------------------------------------------------------------------------------------------------------------------------------------------------------------------------------------------------------------------------------------------------------------------------------------------------------------------------------------------------------------------------------------------------------------------------------------------------------------------------------------------------------------------------------------------------------------------------------------------------------------------------------------------------------------------------------------------------------------------------------------------------------------------------------------------------------------------------------------------------------------------------------------------------------------------------------------------------------------------------------------------------------------------------------------------------------------------------------------------------------------------------------------------------------------------------------------------------------------------------------------------------------------------------------------------------------------------------------------------------------------------------------------------------------------------------------------------------------------------------------------------------------------------------------------------------------------------------------------------------------------------------------------------------------------------------------------------------------------------------------------------------------------------------------------------------------------------------------------------------------------------------------------------------------------------------------------------------------------+\n",
            "|col                                                                                                                                                                                                                                                                                                                                                                                                                                                                                                                                                                                                                                                                                                                                                                                                                                                                                                                                                                                                                                                                                                                                                                                                                                                                                                                                                                                                                                                                                                                                                                                                                                                                                                                                                                                                                                                                                                                                                                                                                                                                                                                                                                                                                                                                                                                                                                                                                                                                                                                                                                                                                                                                                                                                                                                                                                                                                                                                                                                                                                                                                                                                     |\n",
            "+----------------------------------------------------------------------------------------------------------------------------------------------------------------------------------------------------------------------------------------------------------------------------------------------------------------------------------------------------------------------------------------------------------------------------------------------------------------------------------------------------------------------------------------------------------------------------------------------------------------------------------------------------------------------------------------------------------------------------------------------------------------------------------------------------------------------------------------------------------------------------------------------------------------------------------------------------------------------------------------------------------------------------------------------------------------------------------------------------------------------------------------------------------------------------------------------------------------------------------------------------------------------------------------------------------------------------------------------------------------------------------------------------------------------------------------------------------------------------------------------------------------------------------------------------------------------------------------------------------------------------------------------------------------------------------------------------------------------------------------------------------------------------------------------------------------------------------------------------------------------------------------------------------------------------------------------------------------------------------------------------------------------------------------------------------------------------------------------------------------------------------------------------------------------------------------------------------------------------------------------------------------------------------------------------------------------------------------------------------------------------------------------------------------------------------------------------------------------------------------------------------------------------------------------------------------------------------------------------------------------------------------------------------------------------------------------------------------------------------------------------------------------------------------------------------------------------------------------------------------------------------------------------------------------------------------------------------------------------------------------------------------------------------------------------------------------------------------------------------------------------------------+\n",
            "|{urn:uuid:0718123b-5034-4965-a145-3d8d71b11389, {POST, Patient}, {NULL, NULL, NULL, NULL, [{Boston, US, [{[{latitude, 42.37931378112332}, {longitude, -70.90455248443486}], http://hl7.org/fhir/StructureDefinition/geolocation}], [648 Walker Ranch], 02108, Massachusetts}], NULL, NULL, NULL, 1917-08-06, NULL, NULL, NULL, NULL, NULL, NULL, [{{[{en-US, English, urn:ietf:bcp:47}], English}}], NULL, NULL, NULL, NULL, NULL, 2013-02-10T09:04:10-05:00, NULL, NULL, NULL, NULL, NULL, NULL, NULL, NULL, [{[{ombCategory, {2106-3, White, urn:oid:2.16.840.1.113883.6.238}, NULL}, {text, NULL, White}], http://hl7.org/fhir/us/core/StructureDefinition/us-core-race, NULL, NULL, NULL, NULL}, {[{ombCategory, {2186-5, Not Hispanic or Latino, urn:oid:2.16.840.1.113883.6.238}, NULL}, {text, NULL, Not Hispanic or Latino}], http://hl7.org/fhir/us/core/StructureDefinition/us-core-ethnicity, NULL, NULL, NULL, NULL}, {NULL, http://hl7.org/fhir/StructureDefinition/patient-mothersMaidenName, NULL, NULL, NULL, Marinda592 Gusikowski974}, {NULL, http://hl7.org/fhir/us/core/StructureDefinition/us-core-birthsex, NULL, M, NULL, NULL}, {NULL, http://hl7.org/fhir/StructureDefinition/patient-birthPlace, {Lowell, US, Massachusetts}, NULL, NULL, NULL}, {NULL, http://synthetichealth.github.io/synthea/disability-adjusted-life-years, NULL, NULL, 65.08212068019878, NULL}, {NULL, http://synthetichealth.github.io/synthea/quality-adjusted-life-years, NULL, NULL, 29.917879319801216, NULL}], male, NULL, NULL, 0718123b-5034-4965-a145-3d8d71b11389, [{https://github.com/synthetichealth/synthea, NULL, NULL, 0979f4fe-08c5-414e-ba1c-6ccf852bcce4}, {http://hospital.smarthealthit.org, {[{MR, Medical Record Number, http://terminology.hl7.org/CodeSystem/v2-0203}], Medical Record Number}, NULL, 0979f4fe-08c5-414e-ba1c-6ccf852bcce4}, {http://hl7.org/fhir/sid/us-ssn, {[{SS, Social Security Number, http://terminology.hl7.org/CodeSystem/v2-0203}], Social Security Number}, NULL, 999-43-1632}, {urn:oid:2.16.840.1.113883.4.3.25, {[{DL, Driver's License, http://terminology.hl7.org/CodeSystem/v2-0203}], Driver's License}, NULL, S99943022}, {http://standardhealthrecord.org/fhir/StructureDefinition/passportNumber, {[{PPN, Passport Number, http://terminology.hl7.org/CodeSystem/v2-0203}], Passport Number}, NULL, X80464261X}], NULL, NULL, NULL, NULL, NULL, NULL, NULL, NULL, NULL, {[{M, M, http://terminology.hl7.org/CodeSystem/v3-MaritalStatus}], M}, NULL, false, NULL, [{\"use\":\"official\",\"family\":\"Jerde200\",\"given\":[\"Floyd420\"],\"prefix\":[\"Mr.\"]}], NULL, NULL, NULL, NULL, NULL, NULL, NULL, NULL, NULL, NULL, NULL, NULL, NULL, NULL, NULL, NULL, NULL, NULL, NULL, NULL, Patient, NULL, NULL, NULL, NULL, NULL, NULL, NULL, NULL, [{phone, home, 555-114-6492}], {<div xmlns=\"http://www.w3.org/1999/xhtml\">Generated by <a href=\"https://github.com/synthetichealth/synthea\">Synthea</a>.Version identifier: v2.4.0-404-ge7ce2295\\n .   Person seed: -2459295241513827627  Population seed: 0</div>, generated}, NULL, NULL, NULL, NULL, NULL, NULL, NULL, NULL, NULL}}|\n",
            "|{urn:uuid:78418eeb-8ad8-3bcd-bd57-e849974df2e2, {POST, Organization}, {NULL, NULL, true, NULL, [{HULL, US, NULL, [664 NANTASKET AVE], 02045-2148, MA}], NULL, NULL, NULL, NULL, NULL, NULL, NULL, NULL, NULL, NULL, NULL, NULL, NULL, NULL, NULL, NULL, NULL, NULL, NULL, NULL, NULL, NULL, NULL, NULL, NULL, NULL, NULL, NULL, NULL, 78418eeb-8ad8-3bcd-bd57-e849974df2e2, [{https://github.com/synthetichealth/synthea, NULL, NULL, 78418eeb-8ad8-3bcd-bd57-e849974df2e2}], NULL, NULL, NULL, NULL, NULL, NULL, NULL, NULL, NULL, NULL, NULL, NULL, NULL, PCP207753, NULL, NULL, NULL, NULL, NULL, NULL, NULL, NULL, NULL, NULL, NULL, NULL, NULL, NULL, NULL, NULL, NULL, NULL, NULL, NULL, Organization, NULL, NULL, NULL, NULL, NULL, NULL, NULL, NULL, [{phone, NULL, 781-659-7937}], NULL, NULL, [{\"coding\":[{\"system\":\"http://terminology.hl7.org/CodeSystem/organization-type\",\"code\":\"prov\",\"display\":\"Healthcare Provider\"}],\"text\":\"Healthcare Provider\"}], NULL, NULL, NULL, NULL, NULL, NULL, NULL}}                                                                                                                                                                                                                                                                                                                                                                                                                                                                                                                                                                                                                                                                                                                                                                                                                                                                                                                                                                                                                                                                                                                                                                                                                                                                                                                                                                                                                                                                                                                                                                                                                                                                                                                                                                                                                                                                                                                                                                                                                                                                                                                      |\n",
            "|{urn:uuid:0000016d-3a85-4cca-0000-00000000f640, {POST, Practitioner}, {NULL, NULL, true, NULL, [{HULL, US, NULL, [664 NANTASKET AVE], 02045-2148, MA}], NULL, NULL, NULL, NULL, NULL, NULL, NULL, NULL, NULL, NULL, NULL, NULL, NULL, NULL, NULL, NULL, NULL, NULL, NULL, NULL, NULL, NULL, NULL, NULL, NULL, NULL, male, NULL, NULL, 0000016d-3a85-4cca-0000-00000000f640, [{http://hl7.org/fhir/sid/us-npi, NULL, NULL, 63040}], NULL, NULL, NULL, NULL, NULL, NULL, NULL, NULL, NULL, NULL, NULL, NULL, NULL, [{\"family\":\"Iglesias873\",\"given\":[\"Víctor493\"],\"prefix\":[\"Dr.\"]}], NULL, NULL, NULL, NULL, NULL, NULL, NULL, NULL, NULL, NULL, NULL, NULL, NULL, NULL, NULL, NULL, NULL, NULL, NULL, NULL, Practitioner, NULL, NULL, NULL, NULL, NULL, NULL, NULL, NULL, [{email, work, Víctor493.Iglesias873@example.com}], NULL, NULL, NULL, NULL, NULL, NULL, NULL, NULL, NULL, NULL}}                                                                                                                                                                                                                                                                                                                                                                                                                                                                                                                                                                                                                                                                                                                                                                                                                                                                                                                                                                                                                                                                                                                                                                                                                                                                                                                                                                                                                                                                                                                                                                                                                                                                                                                                                                                                                                                                                                                                                                                                                                                                                                                                                                                                                                              |\n",
            "|{urn:uuid:2b772e4b-8e9f-4384-a8f8-037f5cb31452, {POST, Encounter}, {NULL, NULL, NULL, NULL, NULL, NULL, NULL, NULL, NULL, NULL, NULL, NULL, {AMB, http://terminology.hl7.org/CodeSystem/v3-ActCode}, NULL, NULL, NULL, NULL, NULL, NULL, NULL, NULL, NULL, NULL, NULL, NULL, NULL, NULL, NULL, NULL, NULL, NULL, NULL, NULL, NULL, 2b772e4b-8e9f-4384-a8f8-037f5cb31452, NULL, NULL, NULL, NULL, NULL, NULL, NULL, NULL, NULL, NULL, NULL, NULL, NULL, NULL, NULL, NULL, NULL, NULL, NULL, NULL, [{{Dr. Víctor493 Iglesias873, urn:uuid:0000016d-3a85-4cca-0000-00000000f640}, NULL, NULL}], NULL, NULL, NULL, {1935-09-30T09:19:10-05:00, 1935-09-30T09:04:10-05:00}, NULL, NULL, NULL, NULL, NULL, NULL, NULL, NULL, NULL, NULL, Encounter, NULL, NULL, NULL, {PCP207753, urn:uuid:78418eeb-8ad8-3bcd-bd57-e849974df2e2}, NULL, finished, {Mr. Floyd420 Jerde200, urn:uuid:0718123b-5034-4965-a145-3d8d71b11389}, NULL, NULL, NULL, NULL, [{\"coding\":[{\"system\":\"http://snomed.info/sct\",\"code\":\"162673000\",\"display\":\"General examination of patient (procedure)\"}],\"text\":\"General examination of patient (procedure)\"}], NULL, NULL, NULL, NULL, NULL, NULL, NULL}}                                                                                                                                                                                                                                                                                                                                                                                                                                                                                                                                                                                                                                                                                                                                                                                                                                                                                                                                                                                                                                                                                                                                                                                                                                                                                                                                                                                                                                                                                                                                                                                                                                                                                                                                                                                                                                                                                                                                                                |\n",
            "|{urn:uuid:e8724820-f81f-47a3-ad9e-9aef9a602eb7, {POST, Condition}, {NULL, NULL, NULL, NULL, NULL, NULL, NULL, NULL, NULL, NULL, NULL, NULL, NULL, {[{active, http://terminology.hl7.org/CodeSystem/condition-clinical}]}, {[{59621000, Hypertension, http://snomed.info/sct}], Hypertension}, NULL, NULL, NULL, NULL, NULL, NULL, NULL, NULL, NULL, NULL, NULL, NULL, NULL, {urn:uuid:2b772e4b-8e9f-4384-a8f8-037f5cb31452}, NULL, NULL, NULL, NULL, NULL, e8724820-f81f-47a3-ad9e-9aef9a602eb7, NULL, NULL, NULL, NULL, NULL, NULL, NULL, NULL, NULL, NULL, NULL, NULL, NULL, NULL, NULL, NULL, NULL, NULL, 1935-09-30T09:04:10-05:00, NULL, NULL, NULL, NULL, NULL, NULL, NULL, NULL, NULL, NULL, NULL, NULL, NULL, 1935-09-30T09:04:10-05:00, NULL, NULL, Condition, NULL, NULL, NULL, NULL, NULL, NULL, {NULL, urn:uuid:0718123b-5034-4965-a145-3d8d71b11389}, NULL, NULL, NULL, NULL, NULL, NULL, NULL, NULL, NULL, NULL, NULL, {[{confirmed, http://terminology.hl7.org/CodeSystem/condition-ver-status}]}}}                                                                                                                                                                                                                                                                                                                                                                                                                                                                                                                                                                                                                                                                                                                                                                                                                                                                                                                                                                                                                                                                                                                                                                                                                                                                                                                                                                                                                                                                                                                                                                                                                                                                                                                                                                                                                                                                                                                                                                                                                                                                                                                      |\n",
            "+----------------------------------------------------------------------------------------------------------------------------------------------------------------------------------------------------------------------------------------------------------------------------------------------------------------------------------------------------------------------------------------------------------------------------------------------------------------------------------------------------------------------------------------------------------------------------------------------------------------------------------------------------------------------------------------------------------------------------------------------------------------------------------------------------------------------------------------------------------------------------------------------------------------------------------------------------------------------------------------------------------------------------------------------------------------------------------------------------------------------------------------------------------------------------------------------------------------------------------------------------------------------------------------------------------------------------------------------------------------------------------------------------------------------------------------------------------------------------------------------------------------------------------------------------------------------------------------------------------------------------------------------------------------------------------------------------------------------------------------------------------------------------------------------------------------------------------------------------------------------------------------------------------------------------------------------------------------------------------------------------------------------------------------------------------------------------------------------------------------------------------------------------------------------------------------------------------------------------------------------------------------------------------------------------------------------------------------------------------------------------------------------------------------------------------------------------------------------------------------------------------------------------------------------------------------------------------------------------------------------------------------------------------------------------------------------------------------------------------------------------------------------------------------------------------------------------------------------------------------------------------------------------------------------------------------------------------------------------------------------------------------------------------------------------------------------------------------------------------------------------------------+\n",
            "only showing top 5 rows\n",
            "\n"
          ]
        }
      ]
    },
    {
      "cell_type": "code",
      "source": [
        "df_save = df_condition.withColumn('RESOURCE_TYPE', F.col('col.resource.resourceType'))\\\n",
        "                      .where(\"RESOURCE_TYPE like 'Condition'\")\\\n",
        "                      .withColumn('CODING', F.explode(F.col('col.resource.code.coding')))\\\n",
        "                      .withColumn('CODE', F.col('CODING.code'))\\\n",
        "                      .withColumn('DISPLAY', F.col('CODING.display'))\\\n",
        "                      .withColumn('CLINICAL_STATUS_CODING', F.explode(F.col('col.resource.clinicalStatus.coding')))\\\n",
        "                      .withColumn('CLINICAL_STATUS_CODE', F.col('CLINICAL_STATUS_CODING.code'))\\\n",
        "                      .withColumn('VERIFICATION_STATUS_CODING', F.explode(F.col('col.resource.verificationStatus.coding')))\\\n",
        "                      .withColumn('VERIFICATION_STATUS_CODE', F.col('VERIFICATION_STATUS_CODING.code'))\\\n",
        "                      .withColumn('PATIENT_ID', remove_uuid(F.col('col.resource.subject.reference')))\\\n",
        "                      .withColumn('ON_SET_DATETIME', F.col('col.resource.onsetDateTime').cast('timestamp'))\\\n",
        "                      .withColumn('ABATEMENT_DATETIME', F.col('col.resource.abatementDateTime').cast('timestamp'))\\\n",
        "                      .withColumn('RECORDED_DATE', F.col('col.resource.recordedDate').cast('timestamp'))\\\n",
        "                      .drop('col','RESOURCE_TYPE','CODING','CLINICAL_STATUS_CODING','VERIFICATION_STATUS_CODING')"
      ],
      "metadata": {
        "id": "ugGMGjsRgo5M"
      },
      "execution_count": 13,
      "outputs": []
    },
    {
      "cell_type": "code",
      "source": [
        "df_save.printSchema()"
      ],
      "metadata": {
        "colab": {
          "base_uri": "https://localhost:8080/"
        },
        "id": "j3E3n2W6daWP",
        "outputId": "4b1600af-e93b-4484-df76-b51a94cf5808"
      },
      "execution_count": 14,
      "outputs": [
        {
          "output_type": "stream",
          "name": "stdout",
          "text": [
            "root\n",
            " |-- CODE: string (nullable = true)\n",
            " |-- DISPLAY: string (nullable = true)\n",
            " |-- CLINICAL_STATUS_CODE: string (nullable = true)\n",
            " |-- VERIFICATION_STATUS_CODE: string (nullable = true)\n",
            " |-- PATIENT_ID: string (nullable = true)\n",
            " |-- ON_SET_DATETIME: timestamp (nullable = true)\n",
            " |-- ABATEMENT_DATETIME: timestamp (nullable = true)\n",
            " |-- RECORDED_DATE: timestamp (nullable = true)\n",
            "\n"
          ]
        }
      ]
    },
    {
      "cell_type": "code",
      "source": [
        "df_save.show(10,False)"
      ],
      "metadata": {
        "colab": {
          "base_uri": "https://localhost:8080/"
        },
        "id": "IbOb8JNRYcUA",
        "outputId": "9b688d9c-a01f-4e66-8da7-2d477eb4eee5"
      },
      "execution_count": 16,
      "outputs": [
        {
          "output_type": "stream",
          "name": "stdout",
          "text": [
            "+---------+-----------------------------------------+--------------------+------------------------+------------------------------------+-------------------+------------------+-------------------+\n",
            "|CODE     |DISPLAY                                  |CLINICAL_STATUS_CODE|VERIFICATION_STATUS_CODE|PATIENT_ID                          |ON_SET_DATETIME    |ABATEMENT_DATETIME|RECORDED_DATE      |\n",
            "+---------+-----------------------------------------+--------------------+------------------------+------------------------------------+-------------------+------------------+-------------------+\n",
            "|59621000 |Hypertension                             |active              |confirmed               |0718123b-5034-4965-a145-3d8d71b11389|1935-09-30 14:04:10|NULL              |1935-09-30 14:04:10|\n",
            "|74400008 |Appendicitis                             |active              |confirmed               |0718123b-5034-4965-a145-3d8d71b11389|1945-07-31 14:04:10|NULL              |1945-07-31 14:04:10|\n",
            "|428251008|History of appendectomy                  |active              |confirmed               |0718123b-5034-4965-a145-3d8d71b11389|1945-07-31 14:04:10|NULL              |1945-07-31 14:04:10|\n",
            "|15777000 |Prediabetes                              |active              |confirmed               |0718123b-5034-4965-a145-3d8d71b11389|1945-08-06 14:04:10|NULL              |1945-08-06 14:04:10|\n",
            "|271737000|Anemia (disorder)                        |active              |confirmed               |0718123b-5034-4965-a145-3d8d71b11389|1945-10-15 14:04:10|NULL              |1945-10-15 14:04:10|\n",
            "|44054006 |Diabetes                                 |active              |confirmed               |0718123b-5034-4965-a145-3d8d71b11389|1948-10-18 14:04:10|NULL              |1948-10-18 14:04:10|\n",
            "|302870006|Hypertriglyceridemia (disorder)          |active              |confirmed               |0718123b-5034-4965-a145-3d8d71b11389|1951-10-22 14:04:10|NULL              |1951-10-22 14:04:10|\n",
            "|237602007|Metabolic syndrome X (disorder)          |active              |confirmed               |0718123b-5034-4965-a145-3d8d71b11389|1951-10-22 14:04:10|NULL              |1951-10-22 14:04:10|\n",
            "|80394007 |Hyperglycemia (disorder)                 |active              |confirmed               |0718123b-5034-4965-a145-3d8d71b11389|1952-09-01 14:04:10|NULL              |1952-09-01 14:04:10|\n",
            "|431855005|Chronic kidney disease stage 1 (disorder)|active              |confirmed               |0718123b-5034-4965-a145-3d8d71b11389|1952-09-01 14:04:10|NULL              |1952-09-01 14:04:10|\n",
            "+---------+-----------------------------------------+--------------------+------------------------+------------------------------------+-------------------+------------------+-------------------+\n",
            "only showing top 10 rows\n",
            "\n"
          ]
        }
      ]
    },
    {
      "cell_type": "code",
      "source": [],
      "metadata": {
        "id": "-qmQ-A2gdFaG"
      },
      "execution_count": null,
      "outputs": []
    },
    {
      "cell_type": "code",
      "source": [
        "df_save.coalesce(1).write.option('header',True).option('delimiter',';').csv('condition')"
      ],
      "metadata": {
        "id": "jr9scfG3gw9K"
      },
      "execution_count": 17,
      "outputs": []
    },
    {
      "cell_type": "code",
      "source": [],
      "metadata": {
        "id": "guSdCGEKbCUl"
      },
      "execution_count": null,
      "outputs": []
    }
  ]
}