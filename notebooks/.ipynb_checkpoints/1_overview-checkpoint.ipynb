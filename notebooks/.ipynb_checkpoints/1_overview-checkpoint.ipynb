{
 "cells": [
  {
   "cell_type": "code",
   "execution_count": 1,
   "metadata": {},
   "outputs": [],
   "source": [
    "import pandas as pd\n",
    "import json\n",
    "import os"
   ]
  },
  {
   "cell_type": "markdown",
   "metadata": {},
   "source": [
    "## Objetivos"
   ]
  },
  {
   "cell_type": "markdown",
   "metadata": {},
   "source": [
    "- resourcerType = \"Patient\" | resource.gender\n",
    "- resourcerType = \"Condition\" | resource.code.text\n",
    "- resourcerType = \"MedicationRequest\" | resource.medicationCodeableConcept.text"
   ]
  },
  {
   "cell_type": "code",
   "execution_count": 2,
   "metadata": {},
   "outputs": [],
   "source": [
    "paths = os.listdir('/Estudos/desafios_tecnicos/minsait/data')"
   ]
  },
  {
   "cell_type": "code",
   "execution_count": null,
   "metadata": {},
   "outputs": [],
   "source": []
  },
  {
   "cell_type": "markdown",
   "metadata": {},
   "source": [
    "## Functions"
   ]
  },
  {
   "cell_type": "code",
   "execution_count": 3,
   "metadata": {},
   "outputs": [],
   "source": [
    "def get_object(entrys):\n",
    "    resource_types = {}\n",
    "    for x in entrys:\n",
    "        key = x.get('resource').get('resourceType')\n",
    "        if resource_types.get(key):\n",
    "            resource_types.update({key:resource_types.get(key)+1})\n",
    "        else:\n",
    "            resource_types.update({key:1})\n",
    "    \n",
    "    return resource_types"
   ]
  },
  {
   "cell_type": "code",
   "execution_count": null,
   "metadata": {},
   "outputs": [],
   "source": []
  },
  {
   "cell_type": "markdown",
   "metadata": {},
   "source": [
    "### Lendo todos os registros e separando seus tipos de RESOURCES"
   ]
  },
  {
   "cell_type": "code",
   "execution_count": 4,
   "metadata": {},
   "outputs": [
    {
     "name": "stdout",
     "output_type": "stream",
     "text": [
      "Finally file number: 1180\r"
     ]
    }
   ],
   "source": [
    "count = 0\n",
    "entrys = {}\n",
    "for path in paths:\n",
    "    count += 1\n",
    "    dataframe = pd.read_json(f\"../data/{path}\")\n",
    "    name_file = path.split('.')[0]\n",
    "    entrys.update({name_file:get_object(dataframe['entry'])})\n",
    "    \n",
    "    print(f'Finally file number: {count}',end='\\r', flush=True)"
   ]
  },
  {
   "cell_type": "code",
   "execution_count": null,
   "metadata": {},
   "outputs": [],
   "source": []
  },
  {
   "cell_type": "markdown",
   "metadata": {},
   "source": [
    "### Analisando algunas caracteristicas de RESOURCES de diferentes pacientes"
   ]
  },
  {
   "cell_type": "code",
   "execution_count": 5,
   "metadata": {},
   "outputs": [
    {
     "data": {
      "text/plain": [
       "['Aaron697_Brekke496_2fa15bc7-8866-461a-9000-f739e425860a',\n",
       " 'Aaron697_Stiedemann542_41166989-975d-4d17-b9de-17f94cb3eec1',\n",
       " 'Abby752_Kuvalis369_2b083021-e93f-4991-bf49-fd4f20060ef8',\n",
       " 'Abel832_Connelly992_29e51479-f742-4474-8f8e-d2607d5269f6',\n",
       " 'Abraham100_Heller342_262b819a-5193-404a-9787-b7f599358035']"
      ]
     },
     "execution_count": 5,
     "metadata": {},
     "output_type": "execute_result"
    }
   ],
   "source": [
    "list(entrys.keys())[0:5]"
   ]
  },
  {
   "cell_type": "code",
   "execution_count": 6,
   "metadata": {},
   "outputs": [
    {
     "data": {
      "text/plain": [
       "{'Patient': 1,\n",
       " 'Organization': 2,\n",
       " 'Practitioner': 2,\n",
       " 'Encounter': 21,\n",
       " 'Condition': 10,\n",
       " 'Device': 1,\n",
       " 'Claim': 22,\n",
       " 'ExplanationOfBenefit': 21,\n",
       " 'CareTeam': 2,\n",
       " 'Goal': 5,\n",
       " 'CarePlan': 2,\n",
       " 'Observation': 187,\n",
       " 'Immunization': 13,\n",
       " 'DiagnosticReport': 15,\n",
       " 'Procedure': 13,\n",
       " 'MedicationRequest': 1,\n",
       " 'ImagingStudy': 1}"
      ]
     },
     "execution_count": 6,
     "metadata": {},
     "output_type": "execute_result"
    }
   ],
   "source": [
    "entrys.get('Aaron697_Brekke496_2fa15bc7-8866-461a-9000-f739e425860a')"
   ]
  },
  {
   "cell_type": "code",
   "execution_count": 7,
   "metadata": {},
   "outputs": [
    {
     "data": {
      "text/plain": [
       "{'Patient': 1,\n",
       " 'Organization': 3,\n",
       " 'Practitioner': 3,\n",
       " 'Encounter': 28,\n",
       " 'Condition': 7,\n",
       " 'CareTeam': 5,\n",
       " 'Goal': 5,\n",
       " 'CarePlan': 5,\n",
       " 'Claim': 38,\n",
       " 'ExplanationOfBenefit': 28,\n",
       " 'Immunization': 13,\n",
       " 'Observation': 374,\n",
       " 'DiagnosticReport': 33,\n",
       " 'Procedure': 3,\n",
       " 'MedicationRequest': 10}"
      ]
     },
     "execution_count": 7,
     "metadata": {},
     "output_type": "execute_result"
    }
   ],
   "source": [
    "entrys.get('Aaron697_Stiedemann542_41166989-975d-4d17-b9de-17f94cb3eec1')"
   ]
  },
  {
   "cell_type": "code",
   "execution_count": 8,
   "metadata": {},
   "outputs": [
    {
     "data": {
      "text/plain": [
       "{'Patient': 1,\n",
       " 'Organization': 2,\n",
       " 'Practitioner': 2,\n",
       " 'Encounter': 16,\n",
       " 'Observation': 92,\n",
       " 'Procedure': 11,\n",
       " 'Immunization': 16,\n",
       " 'Claim': 20,\n",
       " 'ExplanationOfBenefit': 16,\n",
       " 'DiagnosticReport': 2,\n",
       " 'MedicationRequest': 4,\n",
       " 'Condition': 1}"
      ]
     },
     "execution_count": 8,
     "metadata": {},
     "output_type": "execute_result"
    }
   ],
   "source": [
    "entrys.get('Abby752_Kuvalis369_2b083021-e93f-4991-bf49-fd4f20060ef8')"
   ]
  },
  {
   "cell_type": "code",
   "execution_count": 9,
   "metadata": {},
   "outputs": [
    {
     "data": {
      "text/plain": [
       "{'Patient': 1,\n",
       " 'Organization': 2,\n",
       " 'Practitioner': 2,\n",
       " 'Encounter': 17,\n",
       " 'Condition': 5,\n",
       " 'Claim': 18,\n",
       " 'ExplanationOfBenefit': 17,\n",
       " 'Observation': 92,\n",
       " 'Procedure': 4,\n",
       " 'Immunization': 16,\n",
       " 'MedicationRequest': 1,\n",
       " 'CareTeam': 3,\n",
       " 'CarePlan': 3,\n",
       " 'DiagnosticReport': 2}"
      ]
     },
     "execution_count": 9,
     "metadata": {},
     "output_type": "execute_result"
    }
   ],
   "source": [
    "entrys.get('Abel832_Connelly992_29e51479-f742-4474-8f8e-d2607d5269f6')"
   ]
  },
  {
   "cell_type": "code",
   "execution_count": 10,
   "metadata": {},
   "outputs": [
    {
     "data": {
      "text/plain": [
       "{'Patient': 1,\n",
       " 'Organization': 3,\n",
       " 'Practitioner': 3,\n",
       " 'Encounter': 18,\n",
       " 'Observation': 93,\n",
       " 'Procedure': 8,\n",
       " 'Immunization': 16,\n",
       " 'Claim': 22,\n",
       " 'ExplanationOfBenefit': 18,\n",
       " 'Condition': 8,\n",
       " 'DiagnosticReport': 2,\n",
       " 'MedicationRequest': 4,\n",
       " 'CareTeam': 1,\n",
       " 'CarePlan': 1}"
      ]
     },
     "execution_count": 10,
     "metadata": {},
     "output_type": "execute_result"
    }
   ],
   "source": [
    "entrys.get('Abraham100_Heller342_262b819a-5193-404a-9787-b7f599358035')"
   ]
  },
  {
   "cell_type": "markdown",
   "metadata": {},
   "source": [
    "### Conclusão:\n",
    "- Interessante notar que os pacientes (cada arquivo), possuem tipos diferentes de RESOURCES, então definir um layout unico para leitura de todos os arquivos, não parece ser tão interessante nesse primeiro momentom já que isso poderia comproter alguns informações importantes que poderiam ser 'perdidas' nesse processo."
   ]
  },
  {
   "cell_type": "code",
   "execution_count": null,
   "metadata": {},
   "outputs": [],
   "source": []
  },
  {
   "cell_type": "markdown",
   "metadata": {},
   "source": [
    "### Analisando o conteúdo dos RESOURCES dos pacientes"
   ]
  },
  {
   "cell_type": "markdown",
   "metadata": {},
   "source": [
    "### Analise:\n",
    "- Se concentrando nas perguntas sugeridas no README do projeto, vamos focar a analise em Patient | Condition | MedicationRequest"
   ]
  },
  {
   "cell_type": "code",
   "execution_count": 26,
   "metadata": {},
   "outputs": [],
   "source": [
    "dataframe = pd.read_json(f\"../data/Aaron697_Stiedemann542_41166989-975d-4d17-b9de-17f94cb3eec1.json\")"
   ]
  },
  {
   "cell_type": "code",
   "execution_count": 27,
   "metadata": {},
   "outputs": [
    {
     "name": "stdout",
     "output_type": "stream",
     "text": [
      "{\"fullUrl\": \"urn:uuid:adccf2c3-9dc4-4067-ba23-98982c4875da\", \"resource\": {\"resourceType\": \"Patient\", \"id\": \"adccf2c3-9dc4-4067-ba23-98982c4875da\", \"text\": {\"status\": \"generated\", \"div\": \"<div xmlns=\\\"http://www.w3.org/1999/xhtml\\\">Generated by <a href=\\\"https://github.com/synthetichealth/synthea\\\">Synthea</a>.Version identifier: v2.4.0-404-ge7ce2295\\n .   Person seed: -5811022103828391064  Population seed: 0</div>\"}, \"extension\": [{\"url\": \"http://hl7.org/fhir/us/core/StructureDefinition/us-core-race\", \"extension\": [{\"url\": \"ombCategory\", \"valueCoding\": {\"system\": \"urn:oid:2.16.840.1.113883.6.238\", \"code\": \"2106-3\", \"display\": \"White\"}}, {\"url\": \"text\", \"valueString\": \"White\"}]}, {\"url\": \"http://hl7.org/fhir/us/core/StructureDefinition/us-core-ethnicity\", \"extension\": [{\"url\": \"ombCategory\", \"valueCoding\": {\"system\": \"urn:oid:2.16.840.1.113883.6.238\", \"code\": \"2186-5\", \"display\": \"Not Hispanic or Latino\"}}, {\"url\": \"text\", \"valueString\": \"Not Hispanic or Latino\"}]}, {\"url\": \"http://hl7.org/fhir/StructureDefinition/patient-mothersMaidenName\", \"valueString\": \"Kristyn560 Lesch175\"}, {\"url\": \"http://hl7.org/fhir/us/core/StructureDefinition/us-core-birthsex\", \"valueCode\": \"M\"}, {\"url\": \"http://hl7.org/fhir/StructureDefinition/patient-birthPlace\", \"valueAddress\": {\"city\": \"Boston\", \"state\": \"Massachusetts\", \"country\": \"US\"}}, {\"url\": \"http://synthetichealth.github.io/synthea/disability-adjusted-life-years\", \"valueDecimal\": 4.160702818392717}, {\"url\": \"http://synthetichealth.github.io/synthea/quality-adjusted-life-years\", \"valueDecimal\": 67.83929718160728}], \"identifier\": [{\"system\": \"https://github.com/synthetichealth/synthea\", \"value\": \"41166989-975d-4d17-b9de-17f94cb3eec1\"}, {\"type\": {\"coding\": [{\"system\": \"http://terminology.hl7.org/CodeSystem/v2-0203\", \"code\": \"MR\", \"display\": \"Medical Record Number\"}], \"text\": \"Medical Record Number\"}, \"system\": \"http://hospital.smarthealthit.org\", \"value\": \"41166989-975d-4d17-b9de-17f94cb3eec1\"}, {\"type\": {\"coding\": [{\"system\": \"http://terminology.hl7.org/CodeSystem/v2-0203\", \"code\": \"SS\", \"display\": \"Social Security Number\"}], \"text\": \"Social Security Number\"}, \"system\": \"http://hl7.org/fhir/sid/us-ssn\", \"value\": \"999-17-8717\"}, {\"type\": {\"coding\": [{\"system\": \"http://terminology.hl7.org/CodeSystem/v2-0203\", \"code\": \"DL\", \"display\": \"Driver's License\"}], \"text\": \"Driver's License\"}, \"system\": \"urn:oid:2.16.840.1.113883.4.3.25\", \"value\": \"S99933732\"}, {\"type\": {\"coding\": [{\"system\": \"http://terminology.hl7.org/CodeSystem/v2-0203\", \"code\": \"PPN\", \"display\": \"Passport Number\"}], \"text\": \"Passport Number\"}, \"system\": \"http://standardhealthrecord.org/fhir/StructureDefinition/passportNumber\", \"value\": \"X75257608X\"}], \"name\": [{\"use\": \"official\", \"family\": \"Stiedemann542\", \"given\": [\"Aaron697\"], \"prefix\": [\"Mr.\"]}], \"telecom\": [{\"system\": \"phone\", \"value\": \"555-213-2064\", \"use\": \"home\"}], \"gender\": \"male\", \"birthDate\": \"1946-03-29\", \"address\": [{\"extension\": [{\"url\": \"http://hl7.org/fhir/StructureDefinition/geolocation\", \"extension\": [{\"url\": \"latitude\", \"valueDecimal\": 42.58942256332994}, {\"url\": \"longitude\", \"valueDecimal\": -71.3827654850569}]}], \"line\": [\"378 Krajcik Lodge\"], \"city\": \"Westford\", \"state\": \"Massachusetts\", \"country\": \"US\"}], \"maritalStatus\": {\"coding\": [{\"system\": \"http://terminology.hl7.org/CodeSystem/v3-MaritalStatus\", \"code\": \"M\", \"display\": \"M\"}], \"text\": \"M\"}, \"multipleBirthBoolean\": false, \"communication\": [{\"language\": {\"coding\": [{\"system\": \"urn:ietf:bcp:47\", \"code\": \"en-US\", \"display\": \"English\"}], \"text\": \"English\"}}]}, \"request\": {\"method\": \"POST\", \"url\": \"Patient\"}}\n",
      "-\n",
      "{\"fullUrl\": \"urn:uuid:b4ee9a85-79d6-4788-adcd-f43f22237341\", \"resource\": {\"resourceType\": \"Condition\", \"id\": \"b4ee9a85-79d6-4788-adcd-f43f22237341\", \"clinicalStatus\": {\"coding\": [{\"system\": \"http://terminology.hl7.org/CodeSystem/condition-clinical\", \"code\": \"active\"}]}, \"verificationStatus\": {\"coding\": [{\"system\": \"http://terminology.hl7.org/CodeSystem/condition-ver-status\", \"code\": \"confirmed\"}]}, \"code\": {\"coding\": [{\"system\": \"http://snomed.info/sct\", \"code\": \"15777000\", \"display\": \"Prediabetes\"}], \"text\": \"Prediabetes\"}, \"subject\": {\"reference\": \"urn:uuid:adccf2c3-9dc4-4067-ba23-98982c4875da\"}, \"encounter\": {\"reference\": \"urn:uuid:aa231c62-46fa-41bb-94ce-98a4d9c02020\"}, \"onsetDateTime\": \"1974-06-07T13:11:44-04:00\", \"recordedDate\": \"1974-06-07T13:11:44-04:00\"}, \"request\": {\"method\": \"POST\", \"url\": \"Condition\"}}\n",
      "-\n",
      "{\"fullUrl\": \"urn:uuid:874b0f1b-242a-410d-ad1d-5ffdfee687ec\", \"resource\": {\"resourceType\": \"Condition\", \"id\": \"874b0f1b-242a-410d-ad1d-5ffdfee687ec\", \"clinicalStatus\": {\"coding\": [{\"system\": \"http://terminology.hl7.org/CodeSystem/condition-clinical\", \"code\": \"active\"}]}, \"verificationStatus\": {\"coding\": [{\"system\": \"http://terminology.hl7.org/CodeSystem/condition-ver-status\", \"code\": \"confirmed\"}]}, \"code\": {\"coding\": [{\"system\": \"http://snomed.info/sct\", \"code\": \"271737000\", \"display\": \"Anemia (disorder)\"}], \"text\": \"Anemia (disorder)\"}, \"subject\": {\"reference\": \"urn:uuid:adccf2c3-9dc4-4067-ba23-98982c4875da\"}, \"encounter\": {\"reference\": \"urn:uuid:1f564300-3d20-4075-b49d-208db38c05d6\"}, \"onsetDateTime\": \"1983-06-17T13:11:44-04:00\", \"recordedDate\": \"1983-06-17T13:11:44-04:00\"}, \"request\": {\"method\": \"POST\", \"url\": \"Condition\"}}\n",
      "-\n",
      "{\"fullUrl\": \"urn:uuid:20fa0525-26e8-42ce-84c0-6b295aeee87f\", \"resource\": {\"resourceType\": \"Condition\", \"id\": \"20fa0525-26e8-42ce-84c0-6b295aeee87f\", \"clinicalStatus\": {\"coding\": [{\"system\": \"http://terminology.hl7.org/CodeSystem/condition-clinical\", \"code\": \"resolved\"}]}, \"verificationStatus\": {\"coding\": [{\"system\": \"http://terminology.hl7.org/CodeSystem/condition-ver-status\", \"code\": \"confirmed\"}]}, \"code\": {\"coding\": [{\"system\": \"http://snomed.info/sct\", \"code\": \"444814009\", \"display\": \"Viral sinusitis (disorder)\"}], \"text\": \"Viral sinusitis (disorder)\"}, \"subject\": {\"reference\": \"urn:uuid:adccf2c3-9dc4-4067-ba23-98982c4875da\"}, \"encounter\": {\"reference\": \"urn:uuid:064c7da5-3d8c-4f21-a6e6-7331ec88dc3d\"}, \"onsetDateTime\": \"2010-01-23T12:11:44-05:00\", \"abatementDateTime\": \"2010-01-30T12:11:44-05:00\", \"recordedDate\": \"2010-01-23T12:11:44-05:00\"}, \"request\": {\"method\": \"POST\", \"url\": \"Condition\"}}\n",
      "-\n",
      "{\"fullUrl\": \"urn:uuid:9fcea1b7-26d1-4d9e-b64e-35f55a3d6d57\", \"resource\": {\"resourceType\": \"Condition\", \"id\": \"9fcea1b7-26d1-4d9e-b64e-35f55a3d6d57\", \"clinicalStatus\": {\"coding\": [{\"system\": \"http://terminology.hl7.org/CodeSystem/condition-clinical\", \"code\": \"resolved\"}]}, \"verificationStatus\": {\"coding\": [{\"system\": \"http://terminology.hl7.org/CodeSystem/condition-ver-status\", \"code\": \"confirmed\"}]}, \"code\": {\"coding\": [{\"system\": \"http://snomed.info/sct\", \"code\": \"10509002\", \"display\": \"Acute bronchitis (disorder)\"}], \"text\": \"Acute bronchitis (disorder)\"}, \"subject\": {\"reference\": \"urn:uuid:adccf2c3-9dc4-4067-ba23-98982c4875da\"}, \"encounter\": {\"reference\": \"urn:uuid:072380ee-b302-4520-8f13-7ff12b7ac45c\"}, \"onsetDateTime\": \"2010-07-27T13:11:44-04:00\", \"abatementDateTime\": \"2010-08-03T13:11:44-04:00\", \"recordedDate\": \"2010-07-27T13:11:44-04:00\"}, \"request\": {\"method\": \"POST\", \"url\": \"Condition\"}}\n",
      "-\n",
      "{\"fullUrl\": \"urn:uuid:4a0285ea-3171-4f13-b0fd-3b2c00767f79\", \"resource\": {\"resourceType\": \"MedicationRequest\", \"id\": \"4a0285ea-3171-4f13-b0fd-3b2c00767f79\", \"status\": \"stopped\", \"intent\": \"order\", \"medicationCodeableConcept\": {\"coding\": [{\"system\": \"http://www.nlm.nih.gov/research/umls/rxnorm\", \"code\": \"313782\", \"display\": \"Acetaminophen 325 MG Oral Tablet\"}], \"text\": \"Acetaminophen 325 MG Oral Tablet\"}, \"subject\": {\"reference\": \"urn:uuid:adccf2c3-9dc4-4067-ba23-98982c4875da\"}, \"encounter\": {\"reference\": \"urn:uuid:072380ee-b302-4520-8f13-7ff12b7ac45c\"}, \"authoredOn\": \"2010-07-27T13:11:44-04:00\", \"requester\": {\"reference\": \"urn:uuid:0000016d-3a85-4cca-0000-0000000000f0\", \"display\": \"Dr. Margene509 Heller342\"}, \"reasonReference\": [{\"reference\": \"urn:uuid:9fcea1b7-26d1-4d9e-b64e-35f55a3d6d57\"}]}, \"request\": {\"method\": \"POST\", \"url\": \"MedicationRequest\"}}\n",
      "-\n",
      "{\"fullUrl\": \"urn:uuid:46e8c4a3-1b23-40d6-89d3-ce4ea9d198a4\", \"resource\": {\"resourceType\": \"Condition\", \"id\": \"46e8c4a3-1b23-40d6-89d3-ce4ea9d198a4\", \"clinicalStatus\": {\"coding\": [{\"system\": \"http://terminology.hl7.org/CodeSystem/condition-clinical\", \"code\": \"resolved\"}]}, \"verificationStatus\": {\"coding\": [{\"system\": \"http://terminology.hl7.org/CodeSystem/condition-ver-status\", \"code\": \"confirmed\"}]}, \"code\": {\"coding\": [{\"system\": \"http://snomed.info/sct\", \"code\": \"10509002\", \"display\": \"Acute bronchitis (disorder)\"}], \"text\": \"Acute bronchitis (disorder)\"}, \"subject\": {\"reference\": \"urn:uuid:adccf2c3-9dc4-4067-ba23-98982c4875da\"}, \"encounter\": {\"reference\": \"urn:uuid:2144cf3f-1aea-4838-9bfc-6333e6fde7f7\"}, \"onsetDateTime\": \"2012-01-26T12:11:44-05:00\", \"abatementDateTime\": \"2012-02-02T12:11:44-05:00\", \"recordedDate\": \"2012-01-26T12:11:44-05:00\"}, \"request\": {\"method\": \"POST\", \"url\": \"Condition\"}}\n",
      "-\n",
      "{\"fullUrl\": \"urn:uuid:dca06390-b089-4caf-ad54-54ea4c7b6073\", \"resource\": {\"resourceType\": \"MedicationRequest\", \"id\": \"dca06390-b089-4caf-ad54-54ea4c7b6073\", \"status\": \"stopped\", \"intent\": \"order\", \"medicationCodeableConcept\": {\"coding\": [{\"system\": \"http://www.nlm.nih.gov/research/umls/rxnorm\", \"code\": \"313782\", \"display\": \"Acetaminophen 325 MG Oral Tablet\"}], \"text\": \"Acetaminophen 325 MG Oral Tablet\"}, \"subject\": {\"reference\": \"urn:uuid:adccf2c3-9dc4-4067-ba23-98982c4875da\"}, \"encounter\": {\"reference\": \"urn:uuid:2144cf3f-1aea-4838-9bfc-6333e6fde7f7\"}, \"authoredOn\": \"2012-01-26T12:11:44-05:00\", \"requester\": {\"reference\": \"urn:uuid:0000016d-3a85-4cca-0000-0000000000f0\", \"display\": \"Dr. Margene509 Heller342\"}, \"reasonReference\": [{\"reference\": \"urn:uuid:9fcea1b7-26d1-4d9e-b64e-35f55a3d6d57\"}, {\"reference\": \"urn:uuid:46e8c4a3-1b23-40d6-89d3-ce4ea9d198a4\"}]}, \"request\": {\"method\": \"POST\", \"url\": \"MedicationRequest\"}}\n",
      "-\n",
      "{\"fullUrl\": \"urn:uuid:dd9dcd9e-29ca-4da0-86c5-148566030af3\", \"resource\": {\"resourceType\": \"Condition\", \"id\": \"dd9dcd9e-29ca-4da0-86c5-148566030af3\", \"clinicalStatus\": {\"coding\": [{\"system\": \"http://terminology.hl7.org/CodeSystem/condition-clinical\", \"code\": \"active\"}]}, \"verificationStatus\": {\"coding\": [{\"system\": \"http://terminology.hl7.org/CodeSystem/condition-ver-status\", \"code\": \"confirmed\"}]}, \"code\": {\"coding\": [{\"system\": \"http://snomed.info/sct\", \"code\": \"55822004\", \"display\": \"Hyperlipidemia\"}], \"text\": \"Hyperlipidemia\"}, \"subject\": {\"reference\": \"urn:uuid:adccf2c3-9dc4-4067-ba23-98982c4875da\"}, \"encounter\": {\"reference\": \"urn:uuid:709c6355-d71a-4755-a356-240cb644abca\"}, \"onsetDateTime\": \"2012-06-29T13:11:44-04:00\", \"recordedDate\": \"2012-06-29T13:11:44-04:00\"}, \"request\": {\"method\": \"POST\", \"url\": \"Condition\"}}\n",
      "-\n",
      "{\"fullUrl\": \"urn:uuid:d743a07b-cb6e-4ef8-94be-a81f9f51c9fa\", \"resource\": {\"resourceType\": \"MedicationRequest\", \"id\": \"d743a07b-cb6e-4ef8-94be-a81f9f51c9fa\", \"status\": \"stopped\", \"intent\": \"order\", \"medicationCodeableConcept\": {\"coding\": [{\"system\": \"http://www.nlm.nih.gov/research/umls/rxnorm\", \"code\": \"316672\", \"display\": \"Simvistatin 10 MG\"}], \"text\": \"Simvistatin 10 MG\"}, \"subject\": {\"reference\": \"urn:uuid:adccf2c3-9dc4-4067-ba23-98982c4875da\"}, \"encounter\": {\"reference\": \"urn:uuid:c2b7a10f-8370-4fcc-8e49-f3834dfa9d8c\"}, \"authoredOn\": \"2012-07-20T13:11:44-04:00\", \"requester\": {\"reference\": \"urn:uuid:0000016d-3a85-4cca-0000-0000000000f0\", \"display\": \"Dr. Margene509 Heller342\"}, \"reasonReference\": [{\"reference\": \"urn:uuid:dd9dcd9e-29ca-4da0-86c5-148566030af3\"}], \"dosageInstruction\": [{\"sequence\": 1, \"timing\": {\"repeat\": {\"frequency\": 1, \"period\": 1.0, \"periodUnit\": \"d\"}}, \"asNeededBoolean\": false, \"doseAndRate\": [{\"type\": {\"coding\": [{\"system\": \"http://terminology.hl7.org/CodeSystem/dose-rate-type\", \"code\": \"ordered\", \"display\": \"Ordered\"}]}, \"doseQuantity\": {\"value\": 1.0}}]}]}, \"request\": {\"method\": \"POST\", \"url\": \"MedicationRequest\"}}\n",
      "-\n",
      "{\"fullUrl\": \"urn:uuid:24ad8875-a336-4112-97fb-538c6e376151\", \"resource\": {\"resourceType\": \"Condition\", \"id\": \"24ad8875-a336-4112-97fb-538c6e376151\", \"clinicalStatus\": {\"coding\": [{\"system\": \"http://terminology.hl7.org/CodeSystem/condition-clinical\", \"code\": \"resolved\"}]}, \"verificationStatus\": {\"coding\": [{\"system\": \"http://terminology.hl7.org/CodeSystem/condition-ver-status\", \"code\": \"confirmed\"}]}, \"code\": {\"coding\": [{\"system\": \"http://snomed.info/sct\", \"code\": \"307731004\", \"display\": \"Injury of tendon of the rotator cuff of shoulder\"}], \"text\": \"Injury of tendon of the rotator cuff of shoulder\"}, \"subject\": {\"reference\": \"urn:uuid:adccf2c3-9dc4-4067-ba23-98982c4875da\"}, \"encounter\": {\"reference\": \"urn:uuid:ef5dff00-e164-4d2f-81fd-e1a502dbca9a\"}, \"onsetDateTime\": \"2013-04-27T13:11:44-04:00\", \"abatementDateTime\": \"2013-05-27T13:11:44-04:00\", \"recordedDate\": \"2013-04-27T13:11:44-04:00\"}, \"request\": {\"method\": \"POST\", \"url\": \"Condition\"}}\n",
      "-\n",
      "{\"fullUrl\": \"urn:uuid:eae456ab-fe63-4436-98a3-5c644356b8bd\", \"resource\": {\"resourceType\": \"MedicationRequest\", \"id\": \"eae456ab-fe63-4436-98a3-5c644356b8bd\", \"status\": \"stopped\", \"intent\": \"order\", \"medicationCodeableConcept\": {\"coding\": [{\"system\": \"http://www.nlm.nih.gov/research/umls/rxnorm\", \"code\": \"316672\", \"display\": \"Simvistatin 10 MG\"}], \"text\": \"Simvistatin 10 MG\"}, \"subject\": {\"reference\": \"urn:uuid:adccf2c3-9dc4-4067-ba23-98982c4875da\"}, \"encounter\": {\"reference\": \"urn:uuid:380ce454-a9dd-4d1d-80af-0de902de1c39\"}, \"authoredOn\": \"2013-07-20T13:11:44-04:00\", \"requester\": {\"reference\": \"urn:uuid:0000016d-3a85-4cca-0000-0000000000f0\", \"display\": \"Dr. Margene509 Heller342\"}, \"reasonReference\": [{\"reference\": \"urn:uuid:dd9dcd9e-29ca-4da0-86c5-148566030af3\"}], \"dosageInstruction\": [{\"sequence\": 1, \"timing\": {\"repeat\": {\"frequency\": 1, \"period\": 1.0, \"periodUnit\": \"d\"}}, \"asNeededBoolean\": false, \"doseAndRate\": [{\"type\": {\"coding\": [{\"system\": \"http://terminology.hl7.org/CodeSystem/dose-rate-type\", \"code\": \"ordered\", \"display\": \"Ordered\"}]}, \"doseQuantity\": {\"value\": 1.0}}]}]}, \"request\": {\"method\": \"POST\", \"url\": \"MedicationRequest\"}}\n",
      "-\n",
      "{\"fullUrl\": \"urn:uuid:c2b2f78c-59da-428e-99b1-29e98378e030\", \"resource\": {\"resourceType\": \"MedicationRequest\", \"id\": \"c2b2f78c-59da-428e-99b1-29e98378e030\", \"status\": \"stopped\", \"intent\": \"order\", \"medicationCodeableConcept\": {\"coding\": [{\"system\": \"http://www.nlm.nih.gov/research/umls/rxnorm\", \"code\": \"316672\", \"display\": \"Simvistatin 10 MG\"}], \"text\": \"Simvistatin 10 MG\"}, \"subject\": {\"reference\": \"urn:uuid:adccf2c3-9dc4-4067-ba23-98982c4875da\"}, \"encounter\": {\"reference\": \"urn:uuid:552350ce-1736-47d9-a02e-e4c3b7c3b292\"}, \"authoredOn\": \"2014-07-20T13:11:44-04:00\", \"requester\": {\"reference\": \"urn:uuid:0000016d-3a85-4cca-0000-0000000000f0\", \"display\": \"Dr. Margene509 Heller342\"}, \"reasonReference\": [{\"reference\": \"urn:uuid:dd9dcd9e-29ca-4da0-86c5-148566030af3\"}], \"dosageInstruction\": [{\"sequence\": 1, \"timing\": {\"repeat\": {\"frequency\": 1, \"period\": 1.0, \"periodUnit\": \"d\"}}, \"asNeededBoolean\": false, \"doseAndRate\": [{\"type\": {\"coding\": [{\"system\": \"http://terminology.hl7.org/CodeSystem/dose-rate-type\", \"code\": \"ordered\", \"display\": \"Ordered\"}]}, \"doseQuantity\": {\"value\": 1.0}}]}]}, \"request\": {\"method\": \"POST\", \"url\": \"MedicationRequest\"}}\n",
      "-\n",
      "{\"fullUrl\": \"urn:uuid:8e7203bb-af88-4959-8bfa-8d81f0594496\", \"resource\": {\"resourceType\": \"MedicationRequest\", \"id\": \"8e7203bb-af88-4959-8bfa-8d81f0594496\", \"status\": \"stopped\", \"intent\": \"order\", \"medicationCodeableConcept\": {\"coding\": [{\"system\": \"http://www.nlm.nih.gov/research/umls/rxnorm\", \"code\": \"316672\", \"display\": \"Simvistatin 10 MG\"}], \"text\": \"Simvistatin 10 MG\"}, \"subject\": {\"reference\": \"urn:uuid:adccf2c3-9dc4-4067-ba23-98982c4875da\"}, \"encounter\": {\"reference\": \"urn:uuid:2d99182a-a180-4f38-93fe-e96595783b69\"}, \"authoredOn\": \"2015-07-20T13:11:44-04:00\", \"requester\": {\"reference\": \"urn:uuid:0000016d-3a85-4cca-0000-0000000000f0\", \"display\": \"Dr. Margene509 Heller342\"}, \"reasonReference\": [{\"reference\": \"urn:uuid:dd9dcd9e-29ca-4da0-86c5-148566030af3\"}], \"dosageInstruction\": [{\"sequence\": 1, \"timing\": {\"repeat\": {\"frequency\": 1, \"period\": 1.0, \"periodUnit\": \"d\"}}, \"asNeededBoolean\": false, \"doseAndRate\": [{\"type\": {\"coding\": [{\"system\": \"http://terminology.hl7.org/CodeSystem/dose-rate-type\", \"code\": \"ordered\", \"display\": \"Ordered\"}]}, \"doseQuantity\": {\"value\": 1.0}}]}]}, \"request\": {\"method\": \"POST\", \"url\": \"MedicationRequest\"}}\n",
      "-\n",
      "{\"fullUrl\": \"urn:uuid:a7d17f51-f5f7-4bd7-94b8-4f9fa14cc7ae\", \"resource\": {\"resourceType\": \"MedicationRequest\", \"id\": \"a7d17f51-f5f7-4bd7-94b8-4f9fa14cc7ae\", \"status\": \"stopped\", \"intent\": \"order\", \"medicationCodeableConcept\": {\"coding\": [{\"system\": \"http://www.nlm.nih.gov/research/umls/rxnorm\", \"code\": \"316672\", \"display\": \"Simvistatin 10 MG\"}], \"text\": \"Simvistatin 10 MG\"}, \"subject\": {\"reference\": \"urn:uuid:adccf2c3-9dc4-4067-ba23-98982c4875da\"}, \"encounter\": {\"reference\": \"urn:uuid:1433ec3d-7ea0-4cfa-bd71-9e5f5f6a339e\"}, \"authoredOn\": \"2016-07-19T13:11:44-04:00\", \"requester\": {\"reference\": \"urn:uuid:0000016d-3a85-4cca-0000-0000000000f0\", \"display\": \"Dr. Margene509 Heller342\"}, \"reasonReference\": [{\"reference\": \"urn:uuid:dd9dcd9e-29ca-4da0-86c5-148566030af3\"}], \"dosageInstruction\": [{\"sequence\": 1, \"timing\": {\"repeat\": {\"frequency\": 1, \"period\": 1.0, \"periodUnit\": \"d\"}}, \"asNeededBoolean\": false, \"doseAndRate\": [{\"type\": {\"coding\": [{\"system\": \"http://terminology.hl7.org/CodeSystem/dose-rate-type\", \"code\": \"ordered\", \"display\": \"Ordered\"}]}, \"doseQuantity\": {\"value\": 1.0}}]}]}, \"request\": {\"method\": \"POST\", \"url\": \"MedicationRequest\"}}\n",
      "-\n",
      "{\"fullUrl\": \"urn:uuid:ec6154bd-7066-426d-bb5e-e2ff6de5909d\", \"resource\": {\"resourceType\": \"MedicationRequest\", \"id\": \"ec6154bd-7066-426d-bb5e-e2ff6de5909d\", \"status\": \"stopped\", \"intent\": \"order\", \"medicationCodeableConcept\": {\"coding\": [{\"system\": \"http://www.nlm.nih.gov/research/umls/rxnorm\", \"code\": \"316672\", \"display\": \"Simvistatin 10 MG\"}], \"text\": \"Simvistatin 10 MG\"}, \"subject\": {\"reference\": \"urn:uuid:adccf2c3-9dc4-4067-ba23-98982c4875da\"}, \"encounter\": {\"reference\": \"urn:uuid:7f4f27c6-f8fe-409d-a68a-d1c1cb4f826d\"}, \"authoredOn\": \"2017-07-19T13:11:44-04:00\", \"requester\": {\"reference\": \"urn:uuid:0000016d-3a85-4cca-0000-0000000000f0\", \"display\": \"Dr. Margene509 Heller342\"}, \"reasonReference\": [{\"reference\": \"urn:uuid:dd9dcd9e-29ca-4da0-86c5-148566030af3\"}], \"dosageInstruction\": [{\"sequence\": 1, \"timing\": {\"repeat\": {\"frequency\": 1, \"period\": 1.0, \"periodUnit\": \"d\"}}, \"asNeededBoolean\": false, \"doseAndRate\": [{\"type\": {\"coding\": [{\"system\": \"http://terminology.hl7.org/CodeSystem/dose-rate-type\", \"code\": \"ordered\", \"display\": \"Ordered\"}]}, \"doseQuantity\": {\"value\": 1.0}}]}]}, \"request\": {\"method\": \"POST\", \"url\": \"MedicationRequest\"}}\n",
      "-\n",
      "{\"fullUrl\": \"urn:uuid:b33305ba-bb6e-4a78-a016-da52a8c13855\", \"resource\": {\"resourceType\": \"MedicationRequest\", \"id\": \"b33305ba-bb6e-4a78-a016-da52a8c13855\", \"status\": \"stopped\", \"intent\": \"order\", \"medicationCodeableConcept\": {\"coding\": [{\"system\": \"http://www.nlm.nih.gov/research/umls/rxnorm\", \"code\": \"316672\", \"display\": \"Simvistatin 10 MG\"}], \"text\": \"Simvistatin 10 MG\"}, \"subject\": {\"reference\": \"urn:uuid:adccf2c3-9dc4-4067-ba23-98982c4875da\"}, \"encounter\": {\"reference\": \"urn:uuid:f624a37d-77f5-4492-971d-110904b4edec\"}, \"authoredOn\": \"2018-07-19T13:11:44-04:00\", \"requester\": {\"reference\": \"urn:uuid:0000016d-3a85-4cca-0000-0000000000f0\", \"display\": \"Dr. Margene509 Heller342\"}, \"reasonReference\": [{\"reference\": \"urn:uuid:dd9dcd9e-29ca-4da0-86c5-148566030af3\"}], \"dosageInstruction\": [{\"sequence\": 1, \"timing\": {\"repeat\": {\"frequency\": 1, \"period\": 1.0, \"periodUnit\": \"d\"}}, \"asNeededBoolean\": false, \"doseAndRate\": [{\"type\": {\"coding\": [{\"system\": \"http://terminology.hl7.org/CodeSystem/dose-rate-type\", \"code\": \"ordered\", \"display\": \"Ordered\"}]}, \"doseQuantity\": {\"value\": 1.0}}]}]}, \"request\": {\"method\": \"POST\", \"url\": \"MedicationRequest\"}}\n",
      "-\n",
      "{\"fullUrl\": \"urn:uuid:f472ae13-ca3a-4877-9525-6836be8cdab8\", \"resource\": {\"resourceType\": \"MedicationRequest\", \"id\": \"f472ae13-ca3a-4877-9525-6836be8cdab8\", \"status\": \"active\", \"intent\": \"order\", \"medicationCodeableConcept\": {\"coding\": [{\"system\": \"http://www.nlm.nih.gov/research/umls/rxnorm\", \"code\": \"316672\", \"display\": \"Simvistatin 10 MG\"}], \"text\": \"Simvistatin 10 MG\"}, \"subject\": {\"reference\": \"urn:uuid:adccf2c3-9dc4-4067-ba23-98982c4875da\"}, \"encounter\": {\"reference\": \"urn:uuid:6db15be9-f61c-4880-981c-5d83f7b5adf2\"}, \"authoredOn\": \"2019-07-19T13:11:44-04:00\", \"requester\": {\"reference\": \"urn:uuid:0000016d-3a85-4cca-0000-0000000000f0\", \"display\": \"Dr. Margene509 Heller342\"}, \"reasonReference\": [{\"reference\": \"urn:uuid:dd9dcd9e-29ca-4da0-86c5-148566030af3\"}], \"dosageInstruction\": [{\"sequence\": 1, \"timing\": {\"repeat\": {\"frequency\": 1, \"period\": 1.0, \"periodUnit\": \"d\"}}, \"asNeededBoolean\": false, \"doseAndRate\": [{\"type\": {\"coding\": [{\"system\": \"http://terminology.hl7.org/CodeSystem/dose-rate-type\", \"code\": \"ordered\", \"display\": \"Ordered\"}]}, \"doseQuantity\": {\"value\": 1.0}}]}]}, \"request\": {\"method\": \"POST\", \"url\": \"MedicationRequest\"}}\n",
      "-\n"
     ]
    }
   ],
   "source": [
    "for element in dataframe['entry']:\n",
    "    if element.get('resource').get('resourceType') in ['Patient', 'Condition', 'MedicationRequest']:\n",
    "        print(json.dumps(element))\n",
    "        print('-')"
   ]
  },
  {
   "cell_type": "code",
   "execution_count": null,
   "metadata": {},
   "outputs": [],
   "source": []
  },
  {
   "cell_type": "markdown",
   "metadata": {},
   "source": [
    "### Observações dos RESOURCERS analisados"
   ]
  },
  {
   "cell_type": "markdown",
   "metadata": {},
   "source": [
    "### Patient:\n",
    "- Quando se acessa o RESOURCE, já no mesmo nível do resourceType onde conseguimos identificar que o tipo é PATIENT, conseguimos também acessar o campo GENDER, contendo a informação principal do genero do paciente;\n",
    "- Também é possivel acessar facilmente a informação de BIRTHDATE, o que é bastante interessante já que é possivel analisar a idade do paciente também;\n",
    "- Também é importante guardar a informação de ID, já que com ela, é possivel relacionar outras informações de outros resourceTypes que fazem referência ao paciente;\n",
    "- Os demais campos [extension, identifier, name, telecom, address] também são interessantes para se analisar, mas como são mais volateis, é interessante se concentrar neles em etapas posteriores."
   ]
  },
  {
   "cell_type": "markdown",
   "metadata": {},
   "source": [
    "### Medication Request:\n",
    "- Na estrutura do resourceType do tipo MedicationRequest, algumas informações já podem ser acessadas diretamente, como é o caso de id | status | intent | authoredOn.\n",
    "- No caso, como sugerido no README do projeto, para conseguir a informação relacionada ao nome dos medicamentes, é necessário acessar medicationCodeableConcept.text. Porém, interesasnte notar que dentro do campo CODING, é possivel conseguir ambas as informações CODE | DISPLAY (TEXT), o que pode ajudar ainda mais em analises futuras já que o codigo do medicamento pode ajudar a relacionar informações entre tabelas;\n",
    "- Mais duas informações são interessantes de serem acessadas nesse primeiro momento. O campo SUBJECT que faz referencia ao ID do PACIENTE e o campo REQUESTER, que indica o médico que solicitou a medicação;\n",
    "- As outras informações (principalmente relacionada a dosagem, que nem todos possuem esse tipo de informação), também são interessantes de se analisar em etapas posteriores."
   ]
  },
  {
   "cell_type": "markdown",
   "metadata": {},
   "source": [
    "### Condition:\n",
    "- Novamente, olhando para o mesmo nível de informações que resourceType, conseguimos acessar a informação de ID da requisição da condição e informações interessantes de data, como onsetDateTime | abatementDateTime | recordedDate;\n",
    "- Além disso, no campo CODE, conseguimos acessar a informação mais importante (em relaçao ao README), para conseguir encontrar quais são as condições mais comuns. Como analisado anteriormente, esse campo CODE, possui um subcampo chamado CODING, que faz ser possivel de fato conseguirmos o CODE da condição e o DISPLAY (TEXT) dela;\n",
    "- Também conseguimos acessar dois campos interessantes dentro desse resourceType, o de clinicalStatus e de verificationStatus;\n",
    "- O campo SUBJECT também é interessante, já que ele faz referência ao ID do PACIENTE;\n",
    "- As informações restantes, podem ser analisadas posteriormente."
   ]
  },
  {
   "cell_type": "markdown",
   "metadata": {},
   "source": [
    "### Conclusão:\n",
    "- Nesse momento, os principais campos, que podem ajudar a relacionar as tabelas entre si (Patient, MedicationRequest e Condition), foram coletados, além de informações que a própria tabela individualmente pode ajudar a gerar insights e outras informações interessantes sobre o paciente e sua condição e medicação durante os registros médicos;\n",
    "- Separando as tabelas em Patient, MedicationRequest e Condition, é possivel distribuir melhor o processamento e o código para criar as tabelas para analises. O processamento então pode acontecer independente entre eles, o que ajuda a manter as tabelas atualizadas de acordo com o fluxo de informação de cada resourceType;\n",
    "- Em cada fluxo de processamento, ao final, o salvamento da tabela final acontece em um arquivo .CSV/.PARQUET, e depois é rodado outro notebook para passar esses dados para um sqlite chamado database.db;\n",
    "- Esse banco é utilizado para ser o DB do Metabase, se será executado via docker-compose, dessa forma, é possivel analisar as tabelas que foram geradas, consequentemente, respondendo as perguntas solicitadas no projeto via SQL"
   ]
  },
  {
   "cell_type": "code",
   "execution_count": null,
   "metadata": {},
   "outputs": [],
   "source": []
  },
  {
   "cell_type": "code",
   "execution_count": null,
   "metadata": {},
   "outputs": [],
   "source": []
  }
 ],
 "metadata": {
  "kernelspec": {
   "display_name": "Python 3",
   "language": "python",
   "name": "python3"
  },
  "language_info": {
   "codemirror_mode": {
    "name": "ipython",
    "version": 3
   },
   "file_extension": ".py",
   "mimetype": "text/x-python",
   "name": "python",
   "nbconvert_exporter": "python",
   "pygments_lexer": "ipython3",
   "version": "3.8.1"
  }
 },
 "nbformat": 4,
 "nbformat_minor": 4
}
