{
 "cells": [
  {
   "cell_type": "code",
   "execution_count": 1,
   "metadata": {
    "colab": {
     "base_uri": "https://localhost:8080/"
    },
    "id": "0VsEkNJWeS4N",
    "outputId": "4f73a03b-50ae-48cd-9c23-f4a12cbb92f7"
   },
   "outputs": [
    {
     "name": "stdout",
     "output_type": "stream",
     "text": [
      "Requirement already satisfied: pyspark in /usr/local/lib/python3.11/dist-packages (3.5.5)\n",
      "Requirement already satisfied: py4j==0.10.9.7 in /usr/local/lib/python3.11/dist-packages (from pyspark) (0.10.9.7)\n"
     ]
    }
   ],
   "source": [
    "!pip install pyspark"
   ]
  },
  {
   "cell_type": "code",
   "execution_count": 2,
   "metadata": {
    "colab": {
     "base_uri": "https://localhost:8080/"
    },
    "id": "E0nIk-fNr9kZ",
    "outputId": "edec036c-a9c8-4e6c-a708-7ef08221e013"
   },
   "outputs": [
    {
     "name": "stdout",
     "output_type": "stream",
     "text": [
      "Cloning into 'teste_engenheiro'...\n",
      "remote: Enumerating objects: 1189, done.\u001b[K\n",
      "remote: Total 1189 (delta 0), reused 0 (delta 0), pack-reused 1189 (from 2)\u001b[K\n",
      "Receiving objects: 100% (1189/1189), 49.85 MiB | 9.71 MiB/s, done.\n",
      "Resolving deltas: 100% (1148/1148), done.\n",
      "Updating files: 100% (1182/1182), done.\n"
     ]
    }
   ],
   "source": [
    "!git clone https://github.com/wandersondsm/teste_engenheiro"
   ]
  },
  {
   "cell_type": "code",
   "execution_count": 3,
   "metadata": {
    "id": "CtEOod9DeaVs"
   },
   "outputs": [],
   "source": [
    "from pyspark.sql import SparkSession\n",
    "from pyspark.sql import functions as F"
   ]
  },
  {
   "cell_type": "code",
   "execution_count": 4,
   "metadata": {
    "id": "tcrg7WmIeb5i"
   },
   "outputs": [],
   "source": [
    "spark = SparkSession.builder.appName('Create Patient').getOrCreate()"
   ]
  },
  {
   "cell_type": "code",
   "execution_count": 5,
   "metadata": {
    "colab": {
     "base_uri": "https://localhost:8080/",
     "height": 219
    },
    "id": "ljTeEd3sed1j",
    "outputId": "32ecd807-765d-4083-ef8e-78ee8fd1aae2"
   },
   "outputs": [
    {
     "data": {
      "text/html": [
       "\n",
       "            <div>\n",
       "                <p><b>SparkSession - in-memory</b></p>\n",
       "                \n",
       "        <div>\n",
       "            <p><b>SparkContext</b></p>\n",
       "\n",
       "            <p><a href=\"http://1babcab3f257:4040\">Spark UI</a></p>\n",
       "\n",
       "            <dl>\n",
       "              <dt>Version</dt>\n",
       "                <dd><code>v3.5.5</code></dd>\n",
       "              <dt>Master</dt>\n",
       "                <dd><code>local[*]</code></dd>\n",
       "              <dt>AppName</dt>\n",
       "                <dd><code>Create Patient</code></dd>\n",
       "            </dl>\n",
       "        </div>\n",
       "        \n",
       "            </div>\n",
       "        "
      ],
      "text/plain": [
       "<pyspark.sql.session.SparkSession at 0x7d7cc0226a10>"
      ]
     },
     "execution_count": 5,
     "metadata": {},
     "output_type": "execute_result"
    }
   ],
   "source": [
    "spark"
   ]
  },
  {
   "cell_type": "code",
   "execution_count": null,
   "metadata": {
    "id": "zLzh5rwtefci"
   },
   "outputs": [],
   "source": []
  },
  {
   "cell_type": "markdown",
   "metadata": {
    "id": "4oRH4VCrejrS"
   },
   "source": [
    "## Leitura dos dados e visualização geral"
   ]
  },
  {
   "cell_type": "code",
   "execution_count": 6,
   "metadata": {
    "id": "VR6XidkpeleC"
   },
   "outputs": [],
   "source": [
    "df = spark.read.option('multiline','true').json('/content/teste_engenheiro/data/*.json')"
   ]
  },
  {
   "cell_type": "code",
   "execution_count": 8,
   "metadata": {
    "colab": {
     "base_uri": "https://localhost:8080/"
    },
    "id": "KGFYjVrOenBh",
    "outputId": "f920104d-96b4-4f3f-e440-405a6085e5a9"
   },
   "outputs": [
    {
     "name": "stdout",
     "output_type": "stream",
     "text": [
      "+--------------------+------------+-----------+\n",
      "|               entry|resourceType|       type|\n",
      "+--------------------+------------+-----------+\n",
      "|[{urn:uuid:071812...|      Bundle|transaction|\n",
      "|[{urn:uuid:df121e...|      Bundle|transaction|\n",
      "|[{urn:uuid:f156b8...|      Bundle|transaction|\n",
      "|[{urn:uuid:b0f49c...|      Bundle|transaction|\n",
      "|[{urn:uuid:37ff59...|      Bundle|transaction|\n",
      "+--------------------+------------+-----------+\n",
      "only showing top 5 rows\n",
      "\n"
     ]
    }
   ],
   "source": [
    "df.show(5)"
   ]
  },
  {
   "cell_type": "code",
   "execution_count": 9,
   "metadata": {
    "colab": {
     "base_uri": "https://localhost:8080/"
    },
    "id": "U7DWqcgJspry",
    "outputId": "115d5313-8302-4aba-9369-fa77e23b5a6f"
   },
   "outputs": [
    {
     "data": {
      "text/plain": [
       "1180"
      ]
     },
     "execution_count": 9,
     "metadata": {},
     "output_type": "execute_result"
    }
   ],
   "source": [
    "df.count()"
   ]
  },
  {
   "cell_type": "code",
   "execution_count": 10,
   "metadata": {
    "id": "XuXP1aSffG1s"
   },
   "outputs": [],
   "source": [
    "df_patient = df.select(F.explode('entry'))"
   ]
  },
  {
   "cell_type": "code",
   "execution_count": 11,
   "metadata": {
    "colab": {
     "base_uri": "https://localhost:8080/"
    },
    "id": "rzhrsYU7srzh",
    "outputId": "9edc9796-55ad-413a-f10a-44c7f41ff1c5"
   },
   "outputs": [
    {
     "data": {
      "text/plain": [
       "527113"
      ]
     },
     "execution_count": 11,
     "metadata": {},
     "output_type": "execute_result"
    }
   ],
   "source": [
    "df_patient.count()"
   ]
  },
  {
   "cell_type": "code",
   "execution_count": 12,
   "metadata": {
    "colab": {
     "base_uri": "https://localhost:8080/"
    },
    "id": "hk28mzcifKWT",
    "outputId": "42400019-87b9-48e7-850b-145b96473f39"
   },
   "outputs": [
    {
     "name": "stdout",
     "output_type": "stream",
     "text": [
      "+----------------------------------------------------------------------------------------------------------------------------------------------------------------------------------------------------------------------------------------------------------------------------------------------------------------------------------------------------------------------------------------------------------------------------------------------------------------------------------------------------------------------------------------------------------------------------------------------------------------------------------------------------------------------------------------------------------------------------------------------------------------------------------------------------------------------------------------------------------------------------------------------------------------------------------------------------------------------------------------------------------------------------------------------------------------------------------------------------------------------------------------------------------------------------------------------------------------------------------------------------------------------------------------------------------------------------------------------------------------------------------------------------------------------------------------------------------------------------------------------------------------------------------------------------------------------------------------------------------------------------------------------------------------------------------------------------------------------------------------------------------------------------------------------------------------------------------------------------------------------------------------------------------------------------------------------------------------------------------------------------------------------------------------------------------------------------------------------------------------------------------------------------------------------------------------------------------------------------------------------------------------------------------------------------------------------------------------------------------------------------------------------------------------------------------------------------------------------------------------------------------------------------------------------------------------------------------------------------------------------------------------------------------------------------------------------------------------------------------------------------------------------------------------------------------------------------------------------------------------------------------------------------------------------------------------------------------------------------------------------------------------------------------------------------------------------------------------------------------------------------------------+\n",
      "|col                                                                                                                                                                                                                                                                                                                                                                                                                                                                                                                                                                                                                                                                                                                                                                                                                                                                                                                                                                                                                                                                                                                                                                                                                                                                                                                                                                                                                                                                                                                                                                                                                                                                                                                                                                                                                                                                                                                                                                                                                                                                                                                                                                                                                                                                                                                                                                                                                                                                                                                                                                                                                                                                                                                                                                                                                                                                                                                                                                                                                                                                                                                                     |\n",
      "+----------------------------------------------------------------------------------------------------------------------------------------------------------------------------------------------------------------------------------------------------------------------------------------------------------------------------------------------------------------------------------------------------------------------------------------------------------------------------------------------------------------------------------------------------------------------------------------------------------------------------------------------------------------------------------------------------------------------------------------------------------------------------------------------------------------------------------------------------------------------------------------------------------------------------------------------------------------------------------------------------------------------------------------------------------------------------------------------------------------------------------------------------------------------------------------------------------------------------------------------------------------------------------------------------------------------------------------------------------------------------------------------------------------------------------------------------------------------------------------------------------------------------------------------------------------------------------------------------------------------------------------------------------------------------------------------------------------------------------------------------------------------------------------------------------------------------------------------------------------------------------------------------------------------------------------------------------------------------------------------------------------------------------------------------------------------------------------------------------------------------------------------------------------------------------------------------------------------------------------------------------------------------------------------------------------------------------------------------------------------------------------------------------------------------------------------------------------------------------------------------------------------------------------------------------------------------------------------------------------------------------------------------------------------------------------------------------------------------------------------------------------------------------------------------------------------------------------------------------------------------------------------------------------------------------------------------------------------------------------------------------------------------------------------------------------------------------------------------------------------------------------+\n",
      "|{urn:uuid:0718123b-5034-4965-a145-3d8d71b11389, {POST, Patient}, {NULL, NULL, NULL, NULL, [{Boston, US, [{[{latitude, 42.37931378112332}, {longitude, -70.90455248443486}], http://hl7.org/fhir/StructureDefinition/geolocation}], [648 Walker Ranch], 02108, Massachusetts}], NULL, NULL, NULL, 1917-08-06, NULL, NULL, NULL, NULL, NULL, NULL, [{{[{en-US, English, urn:ietf:bcp:47}], English}}], NULL, NULL, NULL, NULL, NULL, 2013-02-10T09:04:10-05:00, NULL, NULL, NULL, NULL, NULL, NULL, NULL, NULL, [{[{ombCategory, {2106-3, White, urn:oid:2.16.840.1.113883.6.238}, NULL}, {text, NULL, White}], http://hl7.org/fhir/us/core/StructureDefinition/us-core-race, NULL, NULL, NULL, NULL}, {[{ombCategory, {2186-5, Not Hispanic or Latino, urn:oid:2.16.840.1.113883.6.238}, NULL}, {text, NULL, Not Hispanic or Latino}], http://hl7.org/fhir/us/core/StructureDefinition/us-core-ethnicity, NULL, NULL, NULL, NULL}, {NULL, http://hl7.org/fhir/StructureDefinition/patient-mothersMaidenName, NULL, NULL, NULL, Marinda592 Gusikowski974}, {NULL, http://hl7.org/fhir/us/core/StructureDefinition/us-core-birthsex, NULL, M, NULL, NULL}, {NULL, http://hl7.org/fhir/StructureDefinition/patient-birthPlace, {Lowell, US, Massachusetts}, NULL, NULL, NULL}, {NULL, http://synthetichealth.github.io/synthea/disability-adjusted-life-years, NULL, NULL, 65.08212068019878, NULL}, {NULL, http://synthetichealth.github.io/synthea/quality-adjusted-life-years, NULL, NULL, 29.917879319801216, NULL}], male, NULL, NULL, 0718123b-5034-4965-a145-3d8d71b11389, [{https://github.com/synthetichealth/synthea, NULL, NULL, 0979f4fe-08c5-414e-ba1c-6ccf852bcce4}, {http://hospital.smarthealthit.org, {[{MR, Medical Record Number, http://terminology.hl7.org/CodeSystem/v2-0203}], Medical Record Number}, NULL, 0979f4fe-08c5-414e-ba1c-6ccf852bcce4}, {http://hl7.org/fhir/sid/us-ssn, {[{SS, Social Security Number, http://terminology.hl7.org/CodeSystem/v2-0203}], Social Security Number}, NULL, 999-43-1632}, {urn:oid:2.16.840.1.113883.4.3.25, {[{DL, Driver's License, http://terminology.hl7.org/CodeSystem/v2-0203}], Driver's License}, NULL, S99943022}, {http://standardhealthrecord.org/fhir/StructureDefinition/passportNumber, {[{PPN, Passport Number, http://terminology.hl7.org/CodeSystem/v2-0203}], Passport Number}, NULL, X80464261X}], NULL, NULL, NULL, NULL, NULL, NULL, NULL, NULL, NULL, {[{M, M, http://terminology.hl7.org/CodeSystem/v3-MaritalStatus}], M}, NULL, false, NULL, [{\"use\":\"official\",\"family\":\"Jerde200\",\"given\":[\"Floyd420\"],\"prefix\":[\"Mr.\"]}], NULL, NULL, NULL, NULL, NULL, NULL, NULL, NULL, NULL, NULL, NULL, NULL, NULL, NULL, NULL, NULL, NULL, NULL, NULL, NULL, Patient, NULL, NULL, NULL, NULL, NULL, NULL, NULL, NULL, [{phone, home, 555-114-6492}], {<div xmlns=\"http://www.w3.org/1999/xhtml\">Generated by <a href=\"https://github.com/synthetichealth/synthea\">Synthea</a>.Version identifier: v2.4.0-404-ge7ce2295\\n .   Person seed: -2459295241513827627  Population seed: 0</div>, generated}, NULL, NULL, NULL, NULL, NULL, NULL, NULL, NULL, NULL}}|\n",
      "|{urn:uuid:78418eeb-8ad8-3bcd-bd57-e849974df2e2, {POST, Organization}, {NULL, NULL, true, NULL, [{HULL, US, NULL, [664 NANTASKET AVE], 02045-2148, MA}], NULL, NULL, NULL, NULL, NULL, NULL, NULL, NULL, NULL, NULL, NULL, NULL, NULL, NULL, NULL, NULL, NULL, NULL, NULL, NULL, NULL, NULL, NULL, NULL, NULL, NULL, NULL, NULL, NULL, 78418eeb-8ad8-3bcd-bd57-e849974df2e2, [{https://github.com/synthetichealth/synthea, NULL, NULL, 78418eeb-8ad8-3bcd-bd57-e849974df2e2}], NULL, NULL, NULL, NULL, NULL, NULL, NULL, NULL, NULL, NULL, NULL, NULL, NULL, PCP207753, NULL, NULL, NULL, NULL, NULL, NULL, NULL, NULL, NULL, NULL, NULL, NULL, NULL, NULL, NULL, NULL, NULL, NULL, NULL, NULL, Organization, NULL, NULL, NULL, NULL, NULL, NULL, NULL, NULL, [{phone, NULL, 781-659-7937}], NULL, NULL, [{\"coding\":[{\"system\":\"http://terminology.hl7.org/CodeSystem/organization-type\",\"code\":\"prov\",\"display\":\"Healthcare Provider\"}],\"text\":\"Healthcare Provider\"}], NULL, NULL, NULL, NULL, NULL, NULL, NULL}}                                                                                                                                                                                                                                                                                                                                                                                                                                                                                                                                                                                                                                                                                                                                                                                                                                                                                                                                                                                                                                                                                                                                                                                                                                                                                                                                                                                                                                                                                                                                                                                                                                                                                                                                                                                                                                                                                                                                                                                                                                                                                                                      |\n",
      "|{urn:uuid:0000016d-3a85-4cca-0000-00000000f640, {POST, Practitioner}, {NULL, NULL, true, NULL, [{HULL, US, NULL, [664 NANTASKET AVE], 02045-2148, MA}], NULL, NULL, NULL, NULL, NULL, NULL, NULL, NULL, NULL, NULL, NULL, NULL, NULL, NULL, NULL, NULL, NULL, NULL, NULL, NULL, NULL, NULL, NULL, NULL, NULL, NULL, male, NULL, NULL, 0000016d-3a85-4cca-0000-00000000f640, [{http://hl7.org/fhir/sid/us-npi, NULL, NULL, 63040}], NULL, NULL, NULL, NULL, NULL, NULL, NULL, NULL, NULL, NULL, NULL, NULL, NULL, [{\"family\":\"Iglesias873\",\"given\":[\"Víctor493\"],\"prefix\":[\"Dr.\"]}], NULL, NULL, NULL, NULL, NULL, NULL, NULL, NULL, NULL, NULL, NULL, NULL, NULL, NULL, NULL, NULL, NULL, NULL, NULL, NULL, Practitioner, NULL, NULL, NULL, NULL, NULL, NULL, NULL, NULL, [{email, work, Víctor493.Iglesias873@example.com}], NULL, NULL, NULL, NULL, NULL, NULL, NULL, NULL, NULL, NULL}}                                                                                                                                                                                                                                                                                                                                                                                                                                                                                                                                                                                                                                                                                                                                                                                                                                                                                                                                                                                                                                                                                                                                                                                                                                                                                                                                                                                                                                                                                                                                                                                                                                                                                                                                                                                                                                                                                                                                                                                                                                                                                                                                                                                                                                              |\n",
      "|{urn:uuid:2b772e4b-8e9f-4384-a8f8-037f5cb31452, {POST, Encounter}, {NULL, NULL, NULL, NULL, NULL, NULL, NULL, NULL, NULL, NULL, NULL, NULL, {AMB, http://terminology.hl7.org/CodeSystem/v3-ActCode}, NULL, NULL, NULL, NULL, NULL, NULL, NULL, NULL, NULL, NULL, NULL, NULL, NULL, NULL, NULL, NULL, NULL, NULL, NULL, NULL, NULL, 2b772e4b-8e9f-4384-a8f8-037f5cb31452, NULL, NULL, NULL, NULL, NULL, NULL, NULL, NULL, NULL, NULL, NULL, NULL, NULL, NULL, NULL, NULL, NULL, NULL, NULL, NULL, [{{Dr. Víctor493 Iglesias873, urn:uuid:0000016d-3a85-4cca-0000-00000000f640}, NULL, NULL}], NULL, NULL, NULL, {1935-09-30T09:19:10-05:00, 1935-09-30T09:04:10-05:00}, NULL, NULL, NULL, NULL, NULL, NULL, NULL, NULL, NULL, NULL, Encounter, NULL, NULL, NULL, {PCP207753, urn:uuid:78418eeb-8ad8-3bcd-bd57-e849974df2e2}, NULL, finished, {Mr. Floyd420 Jerde200, urn:uuid:0718123b-5034-4965-a145-3d8d71b11389}, NULL, NULL, NULL, NULL, [{\"coding\":[{\"system\":\"http://snomed.info/sct\",\"code\":\"162673000\",\"display\":\"General examination of patient (procedure)\"}],\"text\":\"General examination of patient (procedure)\"}], NULL, NULL, NULL, NULL, NULL, NULL, NULL}}                                                                                                                                                                                                                                                                                                                                                                                                                                                                                                                                                                                                                                                                                                                                                                                                                                                                                                                                                                                                                                                                                                                                                                                                                                                                                                                                                                                                                                                                                                                                                                                                                                                                                                                                                                                                                                                                                                                                                                |\n",
      "|{urn:uuid:e8724820-f81f-47a3-ad9e-9aef9a602eb7, {POST, Condition}, {NULL, NULL, NULL, NULL, NULL, NULL, NULL, NULL, NULL, NULL, NULL, NULL, NULL, {[{active, http://terminology.hl7.org/CodeSystem/condition-clinical}]}, {[{59621000, Hypertension, http://snomed.info/sct}], Hypertension}, NULL, NULL, NULL, NULL, NULL, NULL, NULL, NULL, NULL, NULL, NULL, NULL, NULL, {urn:uuid:2b772e4b-8e9f-4384-a8f8-037f5cb31452}, NULL, NULL, NULL, NULL, NULL, e8724820-f81f-47a3-ad9e-9aef9a602eb7, NULL, NULL, NULL, NULL, NULL, NULL, NULL, NULL, NULL, NULL, NULL, NULL, NULL, NULL, NULL, NULL, NULL, NULL, 1935-09-30T09:04:10-05:00, NULL, NULL, NULL, NULL, NULL, NULL, NULL, NULL, NULL, NULL, NULL, NULL, NULL, 1935-09-30T09:04:10-05:00, NULL, NULL, Condition, NULL, NULL, NULL, NULL, NULL, NULL, {NULL, urn:uuid:0718123b-5034-4965-a145-3d8d71b11389}, NULL, NULL, NULL, NULL, NULL, NULL, NULL, NULL, NULL, NULL, NULL, {[{confirmed, http://terminology.hl7.org/CodeSystem/condition-ver-status}]}}}                                                                                                                                                                                                                                                                                                                                                                                                                                                                                                                                                                                                                                                                                                                                                                                                                                                                                                                                                                                                                                                                                                                                                                                                                                                                                                                                                                                                                                                                                                                                                                                                                                                                                                                                                                                                                                                                                                                                                                                                                                                                                                                      |\n",
      "+----------------------------------------------------------------------------------------------------------------------------------------------------------------------------------------------------------------------------------------------------------------------------------------------------------------------------------------------------------------------------------------------------------------------------------------------------------------------------------------------------------------------------------------------------------------------------------------------------------------------------------------------------------------------------------------------------------------------------------------------------------------------------------------------------------------------------------------------------------------------------------------------------------------------------------------------------------------------------------------------------------------------------------------------------------------------------------------------------------------------------------------------------------------------------------------------------------------------------------------------------------------------------------------------------------------------------------------------------------------------------------------------------------------------------------------------------------------------------------------------------------------------------------------------------------------------------------------------------------------------------------------------------------------------------------------------------------------------------------------------------------------------------------------------------------------------------------------------------------------------------------------------------------------------------------------------------------------------------------------------------------------------------------------------------------------------------------------------------------------------------------------------------------------------------------------------------------------------------------------------------------------------------------------------------------------------------------------------------------------------------------------------------------------------------------------------------------------------------------------------------------------------------------------------------------------------------------------------------------------------------------------------------------------------------------------------------------------------------------------------------------------------------------------------------------------------------------------------------------------------------------------------------------------------------------------------------------------------------------------------------------------------------------------------------------------------------------------------------------------------------------------+\n",
      "only showing top 5 rows\n",
      "\n"
     ]
    }
   ],
   "source": [
    "df_patient.show(5,False)"
   ]
  },
  {
   "cell_type": "code",
   "execution_count": 13,
   "metadata": {
    "id": "Q83VjSGHfNkC"
   },
   "outputs": [],
   "source": [
    "df_save = df_patient.withColumn('RESOURCE_TYPE', F.col('col.resource.resourceType'))\\\n",
    "                    .where(\"RESOURCE_TYPE like 'Patient'\")\\\n",
    "                    .withColumn('ID', F.col('col.resource.id'))\\\n",
    "                    .withColumn('GENDER', F.col('col.resource.gender'))\\\n",
    "                    .withColumn('BIRTHDATE', F.col('col.resource.birthdate').cast('timestamp'))\\\n",
    "                    .withColumn('MARITAL_STATUS', F.col('col.resource.maritalStatus.text'))\\\n",
    "                    .withColumn('MULTIPLE_BIRTH_BOOLEAN', F.col('col.resource.multipleBirthBoolean').cast('boolean'))\\\n",
    "                    .drop('col','RESOURCE_TYPE')"
   ]
  },
  {
   "cell_type": "code",
   "execution_count": 14,
   "metadata": {
    "colab": {
     "base_uri": "https://localhost:8080/"
    },
    "id": "oqgxzmQkUFao",
    "outputId": "24614562-4449-49d6-d0b8-6c94a1b67f6d"
   },
   "outputs": [
    {
     "name": "stdout",
     "output_type": "stream",
     "text": [
      "root\n",
      " |-- ID: string (nullable = true)\n",
      " |-- GENDER: string (nullable = true)\n",
      " |-- BIRTHDATE: timestamp (nullable = true)\n",
      " |-- MARITAL_STATUS: string (nullable = true)\n",
      " |-- MULTIPLE_BIRTH_BOOLEAN: boolean (nullable = true)\n",
      "\n"
     ]
    }
   ],
   "source": [
    "df_save.printSchema()"
   ]
  },
  {
   "cell_type": "code",
   "execution_count": 15,
   "metadata": {
    "colab": {
     "base_uri": "https://localhost:8080/"
    },
    "id": "fp4-dFdbfQwS",
    "outputId": "fffb204a-ce48-4cf8-dc0e-3870e6df2e46"
   },
   "outputs": [
    {
     "name": "stdout",
     "output_type": "stream",
     "text": [
      "+------------------------------------+------+-------------------+--------------+----------------------+\n",
      "|ID                                  |GENDER|BIRTHDATE          |MARITAL_STATUS|MULTIPLE_BIRTH_BOOLEAN|\n",
      "+------------------------------------+------+-------------------+--------------+----------------------+\n",
      "|0718123b-5034-4965-a145-3d8d71b11389|male  |1917-08-06 00:00:00|M             |false                 |\n",
      "|df121e33-f3dc-4d02-a523-3bbd89c8fa5b|male  |1924-06-30 00:00:00|M             |false                 |\n",
      "|f156b85a-67c6-4238-96b7-3e869f0462d2|male  |1912-10-17 00:00:00|M             |false                 |\n",
      "|b0f49c80-b59b-4df6-8292-40ce8b8f8612|female|1927-06-20 00:00:00|M             |false                 |\n",
      "|37ff5999-5a5a-472d-9b2c-408693f101fa|male  |1951-05-24 00:00:00|M             |false                 |\n",
      "|cbaf7927-acab-449a-b3bb-01f02a8d4966|male  |1911-04-08 00:00:00|M             |false                 |\n",
      "|32fde49e-97b8-483a-a818-e67090edbf53|male  |1958-03-22 00:00:00|M             |false                 |\n",
      "|543a7d59-fe25-464d-bacc-e44f9542c938|male  |1919-09-19 00:00:00|M             |false                 |\n",
      "|6a92b6f5-0f67-4bd8-aa21-8468fc48b44f|male  |1946-08-06 00:00:00|M             |false                 |\n",
      "|b4be702f-d857-45d1-96d1-7c8960ed3cab|male  |1946-03-29 00:00:00|M             |false                 |\n",
      "+------------------------------------+------+-------------------+--------------+----------------------+\n",
      "only showing top 10 rows\n",
      "\n"
     ]
    }
   ],
   "source": [
    "df_save.show(10,False)"
   ]
  },
  {
   "cell_type": "code",
   "execution_count": 16,
   "metadata": {
    "colab": {
     "base_uri": "https://localhost:8080/"
    },
    "id": "L0uGpHTLV9ZI",
    "outputId": "12565866-f626-4b12-a5a6-bde11b9301db"
   },
   "outputs": [
    {
     "data": {
      "text/plain": [
       "1180"
      ]
     },
     "execution_count": 16,
     "metadata": {},
     "output_type": "execute_result"
    }
   ],
   "source": [
    "df_save.count()"
   ]
  },
  {
   "cell_type": "code",
   "execution_count": 17,
   "metadata": {
    "id": "GShORd6RtE2V"
   },
   "outputs": [],
   "source": [
    "df_save.coalesce(1).write.option('header',True).option('delimiter',';').csv('patient')"
   ]
  },
  {
   "cell_type": "code",
   "execution_count": null,
   "metadata": {
    "id": "Dc6JkLj8tEgN"
   },
   "outputs": [],
   "source": []
  }
 ],
 "metadata": {
  "colab": {
   "provenance": []
  },
  "kernelspec": {
   "display_name": "Python 3",
   "language": "python",
   "name": "python3"
  },
  "language_info": {
   "codemirror_mode": {
    "name": "ipython",
    "version": 3
   },
   "file_extension": ".py",
   "mimetype": "text/x-python",
   "name": "python",
   "nbconvert_exporter": "python",
   "pygments_lexer": "ipython3",
   "version": "3.8.1"
  }
 },
 "nbformat": 4,
 "nbformat_minor": 4
}
